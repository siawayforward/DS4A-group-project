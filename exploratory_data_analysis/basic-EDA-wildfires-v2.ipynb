{
 "cells": [
  {
   "cell_type": "markdown",
   "metadata": {},
   "source": [
    "<h2>EDA: Wildfire Incidents</h2>\n",
    "\n",
    "This notebook will begin to explore the dataset of wildfire incidents in the Bay Area from 2015-2020. This dataset will later be combined with other data along the axes of time and location, so one of our main goals is to explore trends in how the wildfires data has evolved over time, and whether there are notable features when it is broken down by county. "
   ]
  },
  {
   "cell_type": "code",
   "execution_count": 1,
   "metadata": {},
   "outputs": [],
   "source": [
    "import pandas as pd\n",
    "import matplotlib.pyplot as plt\n",
    "import seaborn as sns\n",
    "import numpy\n",
    "import requests"
   ]
  },
  {
   "cell_type": "code",
   "execution_count": 2,
   "metadata": {},
   "outputs": [
    {
     "data": {
      "text/html": [
       "<div>\n",
       "<style scoped>\n",
       "    .dataframe tbody tr th:only-of-type {\n",
       "        vertical-align: middle;\n",
       "    }\n",
       "\n",
       "    .dataframe tbody tr th {\n",
       "        vertical-align: top;\n",
       "    }\n",
       "\n",
       "    .dataframe thead th {\n",
       "        text-align: right;\n",
       "    }\n",
       "</style>\n",
       "<table border=\"1\" class=\"dataframe\">\n",
       "  <thead>\n",
       "    <tr style=\"text-align: right;\">\n",
       "      <th></th>\n",
       "      <th>UniqueId</th>\n",
       "      <th>index</th>\n",
       "      <th>AcresBurned</th>\n",
       "      <th>Active</th>\n",
       "      <th>ArchiveYear</th>\n",
       "      <th>Counties</th>\n",
       "      <th>Extinguished</th>\n",
       "      <th>Fatalities</th>\n",
       "      <th>Injuries</th>\n",
       "      <th>Latitude</th>\n",
       "      <th>Longitude</th>\n",
       "      <th>Name</th>\n",
       "      <th>Started</th>\n",
       "      <th>StructuresDamaged</th>\n",
       "      <th>StructuresDestroyed</th>\n",
       "      <th>InBay</th>\n",
       "      <th>Started_datetime</th>\n",
       "      <th>Extinguished_datetime</th>\n",
       "      <th>Burn_time</th>\n",
       "      <th>Burn_time_hrs</th>\n",
       "    </tr>\n",
       "  </thead>\n",
       "  <tbody>\n",
       "    <tr>\n",
       "      <th>0</th>\n",
       "      <td>94a7ae52-fed9-4997-b972-1761aa4b89ca</td>\n",
       "      <td>10</td>\n",
       "      <td>25118.0</td>\n",
       "      <td>False</td>\n",
       "      <td>2015</td>\n",
       "      <td>('Lake', 'Napa')</td>\n",
       "      <td>2015-08-25T06:45:00Z</td>\n",
       "      <td>0.0</td>\n",
       "      <td>0.0</td>\n",
       "      <td>38.81425</td>\n",
       "      <td>-122.486732</td>\n",
       "      <td>Jerusalem Fire</td>\n",
       "      <td>2015-08-09T15:34:00Z</td>\n",
       "      <td>0.0</td>\n",
       "      <td>27.0</td>\n",
       "      <td>True</td>\n",
       "      <td>2015-08-09 15:34:00.000</td>\n",
       "      <td>2015-08-25 06:45:00.000</td>\n",
       "      <td>15 days 15:11:00.000000000</td>\n",
       "      <td>375.183333</td>\n",
       "    </tr>\n",
       "    <tr>\n",
       "      <th>1</th>\n",
       "      <td>8fc920eb-ca45-4d77-9a92-1326eca602d6</td>\n",
       "      <td>21</td>\n",
       "      <td>2700.0</td>\n",
       "      <td>False</td>\n",
       "      <td>2015</td>\n",
       "      <td>('Alameda',)</td>\n",
       "      <td>2015-08-22T18:30:00Z</td>\n",
       "      <td>0.0</td>\n",
       "      <td>0.0</td>\n",
       "      <td>37.38450</td>\n",
       "      <td>-121.373200</td>\n",
       "      <td>Tesla Fire</td>\n",
       "      <td>2015-08-19T14:45:00Z</td>\n",
       "      <td>0.0</td>\n",
       "      <td>0.0</td>\n",
       "      <td>True</td>\n",
       "      <td>2015-08-19 14:45:00.000</td>\n",
       "      <td>2015-08-22 18:30:00.000</td>\n",
       "      <td>3 days 03:45:00.000000000</td>\n",
       "      <td>75.750000</td>\n",
       "    </tr>\n",
       "  </tbody>\n",
       "</table>\n",
       "</div>"
      ],
      "text/plain": [
       "                               UniqueId  index  AcresBurned  Active  \\\n",
       "0  94a7ae52-fed9-4997-b972-1761aa4b89ca     10      25118.0   False   \n",
       "1  8fc920eb-ca45-4d77-9a92-1326eca602d6     21       2700.0   False   \n",
       "\n",
       "   ArchiveYear          Counties          Extinguished  Fatalities  Injuries  \\\n",
       "0         2015  ('Lake', 'Napa')  2015-08-25T06:45:00Z         0.0       0.0   \n",
       "1         2015      ('Alameda',)  2015-08-22T18:30:00Z         0.0       0.0   \n",
       "\n",
       "   Latitude   Longitude            Name               Started  \\\n",
       "0  38.81425 -122.486732  Jerusalem Fire  2015-08-09T15:34:00Z   \n",
       "1  37.38450 -121.373200      Tesla Fire  2015-08-19T14:45:00Z   \n",
       "\n",
       "   StructuresDamaged  StructuresDestroyed  InBay         Started_datetime  \\\n",
       "0                0.0                 27.0   True  2015-08-09 15:34:00.000   \n",
       "1                0.0                  0.0   True  2015-08-19 14:45:00.000   \n",
       "\n",
       "     Extinguished_datetime                   Burn_time  Burn_time_hrs  \n",
       "0  2015-08-25 06:45:00.000  15 days 15:11:00.000000000     375.183333  \n",
       "1  2015-08-22 18:30:00.000   3 days 03:45:00.000000000      75.750000  "
      ]
     },
     "execution_count": 2,
     "metadata": {},
     "output_type": "execute_result"
    }
   ],
   "source": [
    "fires_df = pd.read_csv('bay_area_fires.csv')\n",
    "fires_df.head(2)"
   ]
  },
  {
   "cell_type": "code",
   "execution_count": 3,
   "metadata": {},
   "outputs": [
    {
     "data": {
      "text/html": [
       "<div>\n",
       "<style scoped>\n",
       "    .dataframe tbody tr th:only-of-type {\n",
       "        vertical-align: middle;\n",
       "    }\n",
       "\n",
       "    .dataframe tbody tr th {\n",
       "        vertical-align: top;\n",
       "    }\n",
       "\n",
       "    .dataframe thead th {\n",
       "        text-align: right;\n",
       "    }\n",
       "</style>\n",
       "<table border=\"1\" class=\"dataframe\">\n",
       "  <thead>\n",
       "    <tr style=\"text-align: right;\">\n",
       "      <th></th>\n",
       "      <th>UniqueId</th>\n",
       "      <th>AcresBurned</th>\n",
       "      <th>Active</th>\n",
       "      <th>ArchiveYear</th>\n",
       "      <th>Counties</th>\n",
       "      <th>Extinguished</th>\n",
       "      <th>Fatalities</th>\n",
       "      <th>Injuries</th>\n",
       "      <th>Latitude</th>\n",
       "      <th>Longitude</th>\n",
       "      <th>Name</th>\n",
       "      <th>Started</th>\n",
       "      <th>StructuresDamaged</th>\n",
       "      <th>StructuresDestroyed</th>\n",
       "      <th>Started_datetime</th>\n",
       "      <th>Extinguished_datetime</th>\n",
       "      <th>Burn_time</th>\n",
       "      <th>Burn_time_hrs</th>\n",
       "    </tr>\n",
       "  </thead>\n",
       "  <tbody>\n",
       "    <tr>\n",
       "      <th>0</th>\n",
       "      <td>94a7ae52-fed9-4997-b972-1761aa4b89ca</td>\n",
       "      <td>25118.0</td>\n",
       "      <td>False</td>\n",
       "      <td>2015</td>\n",
       "      <td>('Lake', 'Napa')</td>\n",
       "      <td>2015-08-25T06:45:00Z</td>\n",
       "      <td>0.0</td>\n",
       "      <td>0.0</td>\n",
       "      <td>38.81425</td>\n",
       "      <td>-122.486732</td>\n",
       "      <td>Jerusalem Fire</td>\n",
       "      <td>2015-08-09T15:34:00Z</td>\n",
       "      <td>0.0</td>\n",
       "      <td>27.0</td>\n",
       "      <td>2015-08-09 15:34:00.000</td>\n",
       "      <td>2015-08-25 06:45:00.000</td>\n",
       "      <td>15 days 15:11:00.000000000</td>\n",
       "      <td>375.183333</td>\n",
       "    </tr>\n",
       "    <tr>\n",
       "      <th>1</th>\n",
       "      <td>8fc920eb-ca45-4d77-9a92-1326eca602d6</td>\n",
       "      <td>2700.0</td>\n",
       "      <td>False</td>\n",
       "      <td>2015</td>\n",
       "      <td>('Alameda',)</td>\n",
       "      <td>2015-08-22T18:30:00Z</td>\n",
       "      <td>0.0</td>\n",
       "      <td>0.0</td>\n",
       "      <td>37.38450</td>\n",
       "      <td>-121.373200</td>\n",
       "      <td>Tesla Fire</td>\n",
       "      <td>2015-08-19T14:45:00Z</td>\n",
       "      <td>0.0</td>\n",
       "      <td>0.0</td>\n",
       "      <td>2015-08-19 14:45:00.000</td>\n",
       "      <td>2015-08-22 18:30:00.000</td>\n",
       "      <td>3 days 03:45:00.000000000</td>\n",
       "      <td>75.750000</td>\n",
       "    </tr>\n",
       "  </tbody>\n",
       "</table>\n",
       "</div>"
      ],
      "text/plain": [
       "                               UniqueId  AcresBurned  Active  ArchiveYear  \\\n",
       "0  94a7ae52-fed9-4997-b972-1761aa4b89ca      25118.0   False         2015   \n",
       "1  8fc920eb-ca45-4d77-9a92-1326eca602d6       2700.0   False         2015   \n",
       "\n",
       "           Counties          Extinguished  Fatalities  Injuries  Latitude  \\\n",
       "0  ('Lake', 'Napa')  2015-08-25T06:45:00Z         0.0       0.0  38.81425   \n",
       "1      ('Alameda',)  2015-08-22T18:30:00Z         0.0       0.0  37.38450   \n",
       "\n",
       "    Longitude            Name               Started  StructuresDamaged  \\\n",
       "0 -122.486732  Jerusalem Fire  2015-08-09T15:34:00Z                0.0   \n",
       "1 -121.373200      Tesla Fire  2015-08-19T14:45:00Z                0.0   \n",
       "\n",
       "   StructuresDestroyed         Started_datetime    Extinguished_datetime  \\\n",
       "0                 27.0  2015-08-09 15:34:00.000  2015-08-25 06:45:00.000   \n",
       "1                  0.0  2015-08-19 14:45:00.000  2015-08-22 18:30:00.000   \n",
       "\n",
       "                    Burn_time  Burn_time_hrs  \n",
       "0  15 days 15:11:00.000000000     375.183333  \n",
       "1   3 days 03:45:00.000000000      75.750000  "
      ]
     },
     "execution_count": 3,
     "metadata": {},
     "output_type": "execute_result"
    }
   ],
   "source": [
    "# We'll first do a bit more data cleaning\n",
    "\n",
    "# Dropping unused 'index' and 'InBay' columns, which are both remnants of our prior data cleaning\n",
    "\n",
    "drop_cols = ['index', 'InBay']\n",
    "fires_df.drop(drop_cols, axis=1, inplace=True)\n",
    "fires_df.head(2)"
   ]
  },
  {
   "cell_type": "code",
   "execution_count": 4,
   "metadata": {},
   "outputs": [],
   "source": [
    "# TODO: Getting zip code for each fire based on lat/long, as we may need to combine with other datasets based on zip code"
   ]
  },
  {
   "cell_type": "code",
   "execution_count": 5,
   "metadata": {},
   "outputs": [],
   "source": [
    "# Replacing negative 'burn time' values with 0\n",
    "# We assume that these were very brief fires\n",
    "\n",
    "def clean_burn_time(time):\n",
    "    if time < 0:\n",
    "        return 0.0\n",
    "    else:\n",
    "        return time"
   ]
  },
  {
   "cell_type": "code",
   "execution_count": 6,
   "metadata": {
    "scrolled": true
   },
   "outputs": [],
   "source": [
    "fires_df['Clean_burn_time_hrs'] = fires_df['Burn_time_hrs'].apply(clean_burn_time)"
   ]
  },
  {
   "cell_type": "code",
   "execution_count": 7,
   "metadata": {},
   "outputs": [
    {
     "data": {
      "text/html": [
       "<div>\n",
       "<style scoped>\n",
       "    .dataframe tbody tr th:only-of-type {\n",
       "        vertical-align: middle;\n",
       "    }\n",
       "\n",
       "    .dataframe tbody tr th {\n",
       "        vertical-align: top;\n",
       "    }\n",
       "\n",
       "    .dataframe thead th {\n",
       "        text-align: right;\n",
       "    }\n",
       "</style>\n",
       "<table border=\"1\" class=\"dataframe\">\n",
       "  <thead>\n",
       "    <tr style=\"text-align: right;\">\n",
       "      <th></th>\n",
       "      <th>UniqueId</th>\n",
       "      <th>AcresBurned</th>\n",
       "      <th>Active</th>\n",
       "      <th>ArchiveYear</th>\n",
       "      <th>Counties</th>\n",
       "      <th>Extinguished</th>\n",
       "      <th>Fatalities</th>\n",
       "      <th>Injuries</th>\n",
       "      <th>Latitude</th>\n",
       "      <th>Longitude</th>\n",
       "      <th>Name</th>\n",
       "      <th>Started</th>\n",
       "      <th>StructuresDamaged</th>\n",
       "      <th>StructuresDestroyed</th>\n",
       "      <th>Started_datetime</th>\n",
       "      <th>Extinguished_datetime</th>\n",
       "      <th>Burn_time</th>\n",
       "      <th>Burn_time_hrs</th>\n",
       "      <th>Clean_burn_time_hrs</th>\n",
       "    </tr>\n",
       "  </thead>\n",
       "  <tbody>\n",
       "    <tr>\n",
       "      <th>135</th>\n",
       "      <td>40ce99a7-fbca-4b41-b3bf-e2f863fdcc7e</td>\n",
       "      <td>19.0</td>\n",
       "      <td>False</td>\n",
       "      <td>2019</td>\n",
       "      <td>('Alameda',)</td>\n",
       "      <td>2019-08-31T12:50:00Z</td>\n",
       "      <td>0.0</td>\n",
       "      <td>0.0</td>\n",
       "      <td>37.718636</td>\n",
       "      <td>-121.657011</td>\n",
       "      <td>Carroll Fire</td>\n",
       "      <td>2019-08-31T12:55:15Z</td>\n",
       "      <td>0.0</td>\n",
       "      <td>0.0</td>\n",
       "      <td>2019-08-31 12:55:15.000</td>\n",
       "      <td>2019-08-31 12:50:00.000</td>\n",
       "      <td>-1 days +23:54:45.000000000</td>\n",
       "      <td>-0.087500</td>\n",
       "      <td>0.000000</td>\n",
       "    </tr>\n",
       "    <tr>\n",
       "      <th>158</th>\n",
       "      <td>cac8f4bf-d269-4f13-b59c-07670b34f81f</td>\n",
       "      <td>75.0</td>\n",
       "      <td>False</td>\n",
       "      <td>2020</td>\n",
       "      <td>('Contra Costa',)</td>\n",
       "      <td>2020-07-20T11:20:00Z</td>\n",
       "      <td>0.0</td>\n",
       "      <td>0.0</td>\n",
       "      <td>37.977309</td>\n",
       "      <td>-121.620238</td>\n",
       "      <td>Holland Fire</td>\n",
       "      <td>2020-07-20T18:04:37Z</td>\n",
       "      <td>0.0</td>\n",
       "      <td>0.0</td>\n",
       "      <td>2020-07-20 18:04:37.000</td>\n",
       "      <td>2020-07-20 11:20:00.000</td>\n",
       "      <td>-1 days +17:15:23.000000000</td>\n",
       "      <td>-6.743611</td>\n",
       "      <td>0.000000</td>\n",
       "    </tr>\n",
       "    <tr>\n",
       "      <th>4</th>\n",
       "      <td>7c162fbf-922c-4128-9e30-a1e8848e15ab</td>\n",
       "      <td>242.0</td>\n",
       "      <td>False</td>\n",
       "      <td>2015</td>\n",
       "      <td>('Alameda',)</td>\n",
       "      <td>2015-05-28T10:30:00Z</td>\n",
       "      <td>0.0</td>\n",
       "      <td>0.0</td>\n",
       "      <td>0.000000</td>\n",
       "      <td>0.000000</td>\n",
       "      <td>Christensen Fire</td>\n",
       "      <td>2015-05-28T17:00:00Z</td>\n",
       "      <td>0.0</td>\n",
       "      <td>0.0</td>\n",
       "      <td>2015-05-28 17:00:00.000</td>\n",
       "      <td>2015-05-28 10:30:00.000</td>\n",
       "      <td>-1 days +17:30:00.000000000</td>\n",
       "      <td>-6.500000</td>\n",
       "      <td>0.000000</td>\n",
       "    </tr>\n",
       "    <tr>\n",
       "      <th>131</th>\n",
       "      <td>65e8fbe1-5300-4c90-9f48-0e7bfe55b1bc</td>\n",
       "      <td>25.0</td>\n",
       "      <td>False</td>\n",
       "      <td>2019</td>\n",
       "      <td>('Alameda',)</td>\n",
       "      <td>2019-07-05T03:20:00Z</td>\n",
       "      <td>0.0</td>\n",
       "      <td>0.0</td>\n",
       "      <td>37.469000</td>\n",
       "      <td>-121.369700</td>\n",
       "      <td>Bikeway Fire</td>\n",
       "      <td>2019-07-05T09:46:01.973Z</td>\n",
       "      <td>0.0</td>\n",
       "      <td>0.0</td>\n",
       "      <td>2019-07-05 09:46:01.973</td>\n",
       "      <td>2019-07-05 03:20:00.000</td>\n",
       "      <td>-1 days +17:33:58.027000000</td>\n",
       "      <td>-6.433881</td>\n",
       "      <td>0.000000</td>\n",
       "    </tr>\n",
       "    <tr>\n",
       "      <th>130</th>\n",
       "      <td>25e80e7d-5790-4192-9cf0-a190f36158f0</td>\n",
       "      <td>29.0</td>\n",
       "      <td>False</td>\n",
       "      <td>2019</td>\n",
       "      <td>('Santa Clara',)</td>\n",
       "      <td>2019-10-07T09:58:00Z</td>\n",
       "      <td>0.0</td>\n",
       "      <td>0.0</td>\n",
       "      <td>37.066483</td>\n",
       "      <td>-121.219163</td>\n",
       "      <td>Point Fire</td>\n",
       "      <td>2019-10-07T09:58:51.763Z</td>\n",
       "      <td>0.0</td>\n",
       "      <td>0.0</td>\n",
       "      <td>2019-10-07 09:58:51.763</td>\n",
       "      <td>2019-10-07 09:58:00.000</td>\n",
       "      <td>-1 days +23:59:08.237000000</td>\n",
       "      <td>-0.014379</td>\n",
       "      <td>0.000000</td>\n",
       "    </tr>\n",
       "    <tr>\n",
       "      <th>157</th>\n",
       "      <td>5698ae57-d61f-421b-8b75-623e9aa6debb</td>\n",
       "      <td>79.0</td>\n",
       "      <td>False</td>\n",
       "      <td>2020</td>\n",
       "      <td>('Solano',)</td>\n",
       "      <td>2020-06-05T15:10:00Z</td>\n",
       "      <td>0.0</td>\n",
       "      <td>0.0</td>\n",
       "      <td>38.196893</td>\n",
       "      <td>-122.156313</td>\n",
       "      <td>McGary Fire</td>\n",
       "      <td>2020-06-05T17:09:00Z</td>\n",
       "      <td>0.0</td>\n",
       "      <td>0.0</td>\n",
       "      <td>2020-06-05 17:09:00.000</td>\n",
       "      <td>2020-06-05 15:10:00.000</td>\n",
       "      <td>-1 days +22:01:00.000000000</td>\n",
       "      <td>-1.983333</td>\n",
       "      <td>0.000000</td>\n",
       "    </tr>\n",
       "    <tr>\n",
       "      <th>137</th>\n",
       "      <td>a87ab8be-3da9-4cb0-a72c-5125acc001ef</td>\n",
       "      <td>12.0</td>\n",
       "      <td>False</td>\n",
       "      <td>2019</td>\n",
       "      <td>('Alameda',)</td>\n",
       "      <td>2019-10-08T17:51:00Z</td>\n",
       "      <td>0.0</td>\n",
       "      <td>0.0</td>\n",
       "      <td>37.606000</td>\n",
       "      <td>-121.853000</td>\n",
       "      <td>Little Fire</td>\n",
       "      <td>2019-10-08T17:25:12Z</td>\n",
       "      <td>0.0</td>\n",
       "      <td>0.0</td>\n",
       "      <td>2019-10-08 17:25:12.000</td>\n",
       "      <td>2019-10-08 17:51:00.000</td>\n",
       "      <td>0 days 00:25:48.000000000</td>\n",
       "      <td>0.430000</td>\n",
       "      <td>0.430000</td>\n",
       "    </tr>\n",
       "    <tr>\n",
       "      <th>113</th>\n",
       "      <td>d35fa87b-0f19-4dd8-8739-4bdbc92d1361</td>\n",
       "      <td>139.0</td>\n",
       "      <td>False</td>\n",
       "      <td>2019</td>\n",
       "      <td>('Alameda',)</td>\n",
       "      <td>2019-08-21T18:27:00Z</td>\n",
       "      <td>0.0</td>\n",
       "      <td>0.0</td>\n",
       "      <td>37.717340</td>\n",
       "      <td>-121.558670</td>\n",
       "      <td>Patterson Fire</td>\n",
       "      <td>2019-08-21T17:56:05Z</td>\n",
       "      <td>0.0</td>\n",
       "      <td>0.0</td>\n",
       "      <td>2019-08-21 17:56:05.000</td>\n",
       "      <td>2019-08-21 18:27:00.000</td>\n",
       "      <td>0 days 00:30:55.000000000</td>\n",
       "      <td>0.515278</td>\n",
       "      <td>0.515278</td>\n",
       "    </tr>\n",
       "    <tr>\n",
       "      <th>101</th>\n",
       "      <td>3fc9ae75-8844-43a5-8330-6956cdb6e3a7</td>\n",
       "      <td>22.0</td>\n",
       "      <td>False</td>\n",
       "      <td>2019</td>\n",
       "      <td>('Alameda',)</td>\n",
       "      <td>2019-07-12T19:20:00Z</td>\n",
       "      <td>0.0</td>\n",
       "      <td>0.0</td>\n",
       "      <td>37.093243</td>\n",
       "      <td>-121.586846</td>\n",
       "      <td>Mid Fire</td>\n",
       "      <td>2019-07-12T18:40:09Z</td>\n",
       "      <td>0.0</td>\n",
       "      <td>0.0</td>\n",
       "      <td>2019-07-12 18:40:09.000</td>\n",
       "      <td>2019-07-12 19:20:00.000</td>\n",
       "      <td>0 days 00:39:51.000000000</td>\n",
       "      <td>0.664167</td>\n",
       "      <td>0.664167</td>\n",
       "    </tr>\n",
       "    <tr>\n",
       "      <th>132</th>\n",
       "      <td>bc3e7037-5022-4e6a-8a1f-925c7e9aafc8</td>\n",
       "      <td>24.0</td>\n",
       "      <td>False</td>\n",
       "      <td>2019</td>\n",
       "      <td>('Contra Costa',)</td>\n",
       "      <td>2019-07-05T14:58:00Z</td>\n",
       "      <td>0.0</td>\n",
       "      <td>0.0</td>\n",
       "      <td>37.998370</td>\n",
       "      <td>-122.162010</td>\n",
       "      <td>Fellow Fire</td>\n",
       "      <td>2019-07-05T13:33:56Z</td>\n",
       "      <td>0.0</td>\n",
       "      <td>0.0</td>\n",
       "      <td>2019-07-05 13:33:56.000</td>\n",
       "      <td>2019-07-05 14:58:00.000</td>\n",
       "      <td>0 days 01:24:04.000000000</td>\n",
       "      <td>1.401111</td>\n",
       "      <td>1.401111</td>\n",
       "    </tr>\n",
       "  </tbody>\n",
       "</table>\n",
       "</div>"
      ],
      "text/plain": [
       "                                 UniqueId  AcresBurned  Active  ArchiveYear  \\\n",
       "135  40ce99a7-fbca-4b41-b3bf-e2f863fdcc7e         19.0   False         2019   \n",
       "158  cac8f4bf-d269-4f13-b59c-07670b34f81f         75.0   False         2020   \n",
       "4    7c162fbf-922c-4128-9e30-a1e8848e15ab        242.0   False         2015   \n",
       "131  65e8fbe1-5300-4c90-9f48-0e7bfe55b1bc         25.0   False         2019   \n",
       "130  25e80e7d-5790-4192-9cf0-a190f36158f0         29.0   False         2019   \n",
       "157  5698ae57-d61f-421b-8b75-623e9aa6debb         79.0   False         2020   \n",
       "137  a87ab8be-3da9-4cb0-a72c-5125acc001ef         12.0   False         2019   \n",
       "113  d35fa87b-0f19-4dd8-8739-4bdbc92d1361        139.0   False         2019   \n",
       "101  3fc9ae75-8844-43a5-8330-6956cdb6e3a7         22.0   False         2019   \n",
       "132  bc3e7037-5022-4e6a-8a1f-925c7e9aafc8         24.0   False         2019   \n",
       "\n",
       "              Counties          Extinguished  Fatalities  Injuries   Latitude  \\\n",
       "135       ('Alameda',)  2019-08-31T12:50:00Z         0.0       0.0  37.718636   \n",
       "158  ('Contra Costa',)  2020-07-20T11:20:00Z         0.0       0.0  37.977309   \n",
       "4         ('Alameda',)  2015-05-28T10:30:00Z         0.0       0.0   0.000000   \n",
       "131       ('Alameda',)  2019-07-05T03:20:00Z         0.0       0.0  37.469000   \n",
       "130   ('Santa Clara',)  2019-10-07T09:58:00Z         0.0       0.0  37.066483   \n",
       "157        ('Solano',)  2020-06-05T15:10:00Z         0.0       0.0  38.196893   \n",
       "137       ('Alameda',)  2019-10-08T17:51:00Z         0.0       0.0  37.606000   \n",
       "113       ('Alameda',)  2019-08-21T18:27:00Z         0.0       0.0  37.717340   \n",
       "101       ('Alameda',)  2019-07-12T19:20:00Z         0.0       0.0  37.093243   \n",
       "132  ('Contra Costa',)  2019-07-05T14:58:00Z         0.0       0.0  37.998370   \n",
       "\n",
       "      Longitude              Name                   Started  \\\n",
       "135 -121.657011      Carroll Fire      2019-08-31T12:55:15Z   \n",
       "158 -121.620238     Holland Fire       2020-07-20T18:04:37Z   \n",
       "4      0.000000  Christensen Fire      2015-05-28T17:00:00Z   \n",
       "131 -121.369700      Bikeway Fire  2019-07-05T09:46:01.973Z   \n",
       "130 -121.219163       Point Fire   2019-10-07T09:58:51.763Z   \n",
       "157 -122.156313      McGary Fire       2020-06-05T17:09:00Z   \n",
       "137 -121.853000       Little Fire      2019-10-08T17:25:12Z   \n",
       "113 -121.558670    Patterson Fire      2019-08-21T17:56:05Z   \n",
       "101 -121.586846          Mid Fire      2019-07-12T18:40:09Z   \n",
       "132 -122.162010       Fellow Fire      2019-07-05T13:33:56Z   \n",
       "\n",
       "     StructuresDamaged  StructuresDestroyed         Started_datetime  \\\n",
       "135                0.0                  0.0  2019-08-31 12:55:15.000   \n",
       "158                0.0                  0.0  2020-07-20 18:04:37.000   \n",
       "4                  0.0                  0.0  2015-05-28 17:00:00.000   \n",
       "131                0.0                  0.0  2019-07-05 09:46:01.973   \n",
       "130                0.0                  0.0  2019-10-07 09:58:51.763   \n",
       "157                0.0                  0.0  2020-06-05 17:09:00.000   \n",
       "137                0.0                  0.0  2019-10-08 17:25:12.000   \n",
       "113                0.0                  0.0  2019-08-21 17:56:05.000   \n",
       "101                0.0                  0.0  2019-07-12 18:40:09.000   \n",
       "132                0.0                  0.0  2019-07-05 13:33:56.000   \n",
       "\n",
       "       Extinguished_datetime                    Burn_time  Burn_time_hrs  \\\n",
       "135  2019-08-31 12:50:00.000  -1 days +23:54:45.000000000      -0.087500   \n",
       "158  2020-07-20 11:20:00.000  -1 days +17:15:23.000000000      -6.743611   \n",
       "4    2015-05-28 10:30:00.000  -1 days +17:30:00.000000000      -6.500000   \n",
       "131  2019-07-05 03:20:00.000  -1 days +17:33:58.027000000      -6.433881   \n",
       "130  2019-10-07 09:58:00.000  -1 days +23:59:08.237000000      -0.014379   \n",
       "157  2020-06-05 15:10:00.000  -1 days +22:01:00.000000000      -1.983333   \n",
       "137  2019-10-08 17:51:00.000    0 days 00:25:48.000000000       0.430000   \n",
       "113  2019-08-21 18:27:00.000    0 days 00:30:55.000000000       0.515278   \n",
       "101  2019-07-12 19:20:00.000    0 days 00:39:51.000000000       0.664167   \n",
       "132  2019-07-05 14:58:00.000    0 days 01:24:04.000000000       1.401111   \n",
       "\n",
       "     Clean_burn_time_hrs  \n",
       "135             0.000000  \n",
       "158             0.000000  \n",
       "4               0.000000  \n",
       "131             0.000000  \n",
       "130             0.000000  \n",
       "157             0.000000  \n",
       "137             0.430000  \n",
       "113             0.515278  \n",
       "101             0.664167  \n",
       "132             1.401111  "
      ]
     },
     "execution_count": 7,
     "metadata": {},
     "output_type": "execute_result"
    }
   ],
   "source": [
    "fires_df.sort_values(by='Clean_burn_time_hrs').head(10)"
   ]
  },
  {
   "cell_type": "code",
   "execution_count": 8,
   "metadata": {},
   "outputs": [
    {
     "data": {
      "image/png": "[encoded data removed]",
      "text/plain": [
       "<Figure size 432x288 with 1 Axes>"
      ]
     },
     "metadata": {
      "needs_background": "light"
     },
     "output_type": "display_data"
    }
   ],
   "source": [
    "# Number of fires per year across the entire Bay Area\n",
    "\n",
    "fires_df.groupby('ArchiveYear')['UniqueId'].count().plot.bar()\n",
    "_ = plt.title('Number of wildfires in the Bay Area per year')"
   ]
  },
  {
   "cell_type": "markdown",
   "metadata": {},
   "source": [
    "We see that the number of fires reached a peak in 2019, and was generally the highest in 2017-2019. Next we want to look at the number of acres burned to investigate the severity and extent of the fires."
   ]
  },
  {
   "cell_type": "code",
   "execution_count": 9,
   "metadata": {},
   "outputs": [
    {
     "data": {
      "image/png": "[encoded data removed]",
      "text/plain": [
       "<Figure size 432x288 with 1 Axes>"
      ]
     },
     "metadata": {
      "needs_background": "light"
     },
     "output_type": "display_data"
    }
   ],
   "source": [
    "# creating graph of acres burned per year\n",
    "fires_df.groupby('ArchiveYear')['AcresBurned'].sum().plot.bar()\n",
    "plt.ylabel('Acres burned')\n",
    "_ = plt.title('Number of acres burned in Bay Area wildfires per year')"
   ]
  },
  {
   "cell_type": "markdown",
   "metadata": {},
   "source": [
    "This graph complicates the previous count of fires per year by revealing that, in 2020, by far the most acres were burned, even though there has been a smaller number of fires this year than in previous years. However, because there is such a large discrepancy in acres burned in 2020 vs. previous years, we will examine the 2020 data to see if it is really accurate."
   ]
  },
  {
   "cell_type": "code",
   "execution_count": 53,
   "metadata": {},
   "outputs": [
    {
     "data": {
      "text/html": [
       "<div>\n",
       "<style scoped>\n",
       "    .dataframe tbody tr th:only-of-type {\n",
       "        vertical-align: middle;\n",
       "    }\n",
       "\n",
       "    .dataframe tbody tr th {\n",
       "        vertical-align: top;\n",
       "    }\n",
       "\n",
       "    .dataframe thead th {\n",
       "        text-align: right;\n",
       "    }\n",
       "</style>\n",
       "<table border=\"1\" class=\"dataframe\">\n",
       "  <thead>\n",
       "    <tr style=\"text-align: right;\">\n",
       "      <th></th>\n",
       "      <th>AcresBurned</th>\n",
       "      <th>Name</th>\n",
       "    </tr>\n",
       "  </thead>\n",
       "  <tbody>\n",
       "    <tr>\n",
       "      <th>147</th>\n",
       "      <td>396624.0</td>\n",
       "      <td>SCU Lightning Complex</td>\n",
       "    </tr>\n",
       "    <tr>\n",
       "      <th>148</th>\n",
       "      <td>363220.0</td>\n",
       "      <td>LNU Lightning Complex (includes Hennessey, Gam...</td>\n",
       "    </tr>\n",
       "    <tr>\n",
       "      <th>139</th>\n",
       "      <td>86509.0</td>\n",
       "      <td>CZU Lightning Complex (Including Warnella Fire)</td>\n",
       "    </tr>\n",
       "    <tr>\n",
       "      <th>149</th>\n",
       "      <td>67484.0</td>\n",
       "      <td>Glass Fire</td>\n",
       "    </tr>\n",
       "    <tr>\n",
       "      <th>150</th>\n",
       "      <td>5513.0</td>\n",
       "      <td>Crews Fire</td>\n",
       "    </tr>\n",
       "    <tr>\n",
       "      <th>151</th>\n",
       "      <td>4929.0</td>\n",
       "      <td>Woodward Fire</td>\n",
       "    </tr>\n",
       "    <tr>\n",
       "      <th>152</th>\n",
       "      <td>1837.0</td>\n",
       "      <td>Quail Fire</td>\n",
       "    </tr>\n",
       "    <tr>\n",
       "      <th>140</th>\n",
       "      <td>343.0</td>\n",
       "      <td>Park Fire</td>\n",
       "    </tr>\n",
       "    <tr>\n",
       "      <th>153</th>\n",
       "      <td>300.0</td>\n",
       "      <td>Wildlife Fire</td>\n",
       "    </tr>\n",
       "    <tr>\n",
       "      <th>154</th>\n",
       "      <td>298.0</td>\n",
       "      <td>California Fire</td>\n",
       "    </tr>\n",
       "    <tr>\n",
       "      <th>155</th>\n",
       "      <td>253.0</td>\n",
       "      <td>Hollow Fire</td>\n",
       "    </tr>\n",
       "    <tr>\n",
       "      <th>156</th>\n",
       "      <td>143.0</td>\n",
       "      <td>Coyote Fire</td>\n",
       "    </tr>\n",
       "    <tr>\n",
       "      <th>141</th>\n",
       "      <td>141.0</td>\n",
       "      <td>Lakeville Fire</td>\n",
       "    </tr>\n",
       "    <tr>\n",
       "      <th>142</th>\n",
       "      <td>126.0</td>\n",
       "      <td>Colleen Fire</td>\n",
       "    </tr>\n",
       "    <tr>\n",
       "      <th>143</th>\n",
       "      <td>108.0</td>\n",
       "      <td>Sheridan Fire</td>\n",
       "    </tr>\n",
       "    <tr>\n",
       "      <th>144</th>\n",
       "      <td>107.0</td>\n",
       "      <td>Gulch Fire</td>\n",
       "    </tr>\n",
       "    <tr>\n",
       "      <th>145</th>\n",
       "      <td>100.0</td>\n",
       "      <td>Willow Fire</td>\n",
       "    </tr>\n",
       "    <tr>\n",
       "      <th>157</th>\n",
       "      <td>79.0</td>\n",
       "      <td>McGary Fire</td>\n",
       "    </tr>\n",
       "    <tr>\n",
       "      <th>158</th>\n",
       "      <td>75.0</td>\n",
       "      <td>Holland Fire</td>\n",
       "    </tr>\n",
       "    <tr>\n",
       "      <th>159</th>\n",
       "      <td>75.0</td>\n",
       "      <td>Mountain Meadow Fire</td>\n",
       "    </tr>\n",
       "    <tr>\n",
       "      <th>160</th>\n",
       "      <td>61.0</td>\n",
       "      <td>Pope Fire</td>\n",
       "    </tr>\n",
       "    <tr>\n",
       "      <th>161</th>\n",
       "      <td>60.0</td>\n",
       "      <td>Creek Fire</td>\n",
       "    </tr>\n",
       "    <tr>\n",
       "      <th>162</th>\n",
       "      <td>47.0</td>\n",
       "      <td>Byron Fire</td>\n",
       "    </tr>\n",
       "    <tr>\n",
       "      <th>163</th>\n",
       "      <td>31.0</td>\n",
       "      <td>Alum Fire</td>\n",
       "    </tr>\n",
       "    <tr>\n",
       "      <th>164</th>\n",
       "      <td>30.0</td>\n",
       "      <td>Irvine Fire</td>\n",
       "    </tr>\n",
       "    <tr>\n",
       "      <th>146</th>\n",
       "      <td>20.0</td>\n",
       "      <td>Spanish Fire</td>\n",
       "    </tr>\n",
       "    <tr>\n",
       "      <th>165</th>\n",
       "      <td>19.0</td>\n",
       "      <td>Silver Fire</td>\n",
       "    </tr>\n",
       "  </tbody>\n",
       "</table>\n",
       "</div>"
      ],
      "text/plain": [
       "     AcresBurned                                               Name\n",
       "147     396624.0                              SCU Lightning Complex\n",
       "148     363220.0  LNU Lightning Complex (includes Hennessey, Gam...\n",
       "139      86509.0   CZU Lightning Complex (Including Warnella Fire) \n",
       "149      67484.0                                         Glass Fire\n",
       "150       5513.0                                         Crews Fire\n",
       "151       4929.0                                      Woodward Fire\n",
       "152       1837.0                                         Quail Fire\n",
       "140        343.0                                          Park Fire\n",
       "153        300.0                                      Wildlife Fire\n",
       "154        298.0                                    California Fire\n",
       "155        253.0                                        Hollow Fire\n",
       "156        143.0                                        Coyote Fire\n",
       "141        141.0                                     Lakeville Fire\n",
       "142        126.0                                       Colleen Fire\n",
       "143        108.0                                      Sheridan Fire\n",
       "144        107.0                                         Gulch Fire\n",
       "145        100.0                                       Willow Fire \n",
       "157         79.0                                       McGary Fire \n",
       "158         75.0                                      Holland Fire \n",
       "159         75.0                              Mountain Meadow Fire \n",
       "160         61.0                                          Pope Fire\n",
       "161         60.0                                         Creek Fire\n",
       "162         47.0                                         Byron Fire\n",
       "163         31.0                                          Alum Fire\n",
       "164         30.0                                        Irvine Fire\n",
       "146         20.0                                      Spanish Fire \n",
       "165         19.0                                        Silver Fire"
      ]
     },
     "execution_count": 53,
     "metadata": {},
     "output_type": "execute_result"
    }
   ],
   "source": [
    "fires_df[fires_df['ArchiveYear']==2020].sort_values(by='AcresBurned', ascending=False)[['AcresBurned','Name']]"
   ]
  },
  {
   "cell_type": "markdown",
   "metadata": {},
   "source": [
    "According to Wikipedia, these data do indeed seem to be accurate; the SCU Lightning Complex Fire, for example, is \"the third-largest wildfire recorded in California's modern history,\" and burned nearly 400,000 acres.\n",
    "\n",
    "Now that we've confirmed the accuracy of the high values in 2020, we will examine the length of time that the wildfires burned, which we will graph next."
   ]
  },
  {
   "cell_type": "code",
   "execution_count": 10,
   "metadata": {},
   "outputs": [
    {
     "data": {
      "text/plain": [
       "<matplotlib.axes._subplots.AxesSubplot at 0x7f19235e1e80>"
      ]
     },
     "execution_count": 10,
     "metadata": {},
     "output_type": "execute_result"
    },
    {
     "data": {
      "image/png": "[encoded data removed]",
      "text/plain": [
       "<Figure size 432x288 with 1 Axes>"
      ]
     },
     "metadata": {
      "needs_background": "light"
     },
     "output_type": "display_data"
    }
   ],
   "source": [
    "sns.boxplot(x='ArchiveYear',y='Clean_burn_time_hrs',data=fires_df)"
   ]
  },
  {
   "cell_type": "markdown",
   "metadata": {},
   "source": [
    "These boxplots reveal something extremely odd about the data: in 2017 and 2018, there were no short-burning fires, and the average burn time of fires was MUCH higher than in other years. This makes us wonder if something may be wrong with those two years' data. "
   ]
  },
  {
   "cell_type": "code",
   "execution_count": 11,
   "metadata": {
    "scrolled": true
   },
   "outputs": [
    {
     "data": {
      "text/html": [
       "<div>\n",
       "<style scoped>\n",
       "    .dataframe tbody tr th:only-of-type {\n",
       "        vertical-align: middle;\n",
       "    }\n",
       "\n",
       "    .dataframe tbody tr th {\n",
       "        vertical-align: top;\n",
       "    }\n",
       "\n",
       "    .dataframe thead th {\n",
       "        text-align: right;\n",
       "    }\n",
       "</style>\n",
       "<table border=\"1\" class=\"dataframe\">\n",
       "  <thead>\n",
       "    <tr style=\"text-align: right;\">\n",
       "      <th></th>\n",
       "      <th>Name</th>\n",
       "      <th>Started_datetime</th>\n",
       "      <th>Extinguished_datetime</th>\n",
       "    </tr>\n",
       "  </thead>\n",
       "  <tbody>\n",
       "    <tr>\n",
       "      <th>61</th>\n",
       "      <td>County Fire</td>\n",
       "      <td>2018-06-30 14:12:00</td>\n",
       "      <td>2019-01-04 09:57:00</td>\n",
       "    </tr>\n",
       "    <tr>\n",
       "      <th>62</th>\n",
       "      <td>Branscombe Fire</td>\n",
       "      <td>2018-10-07 13:00:00</td>\n",
       "      <td>2019-01-04 08:57:00</td>\n",
       "    </tr>\n",
       "    <tr>\n",
       "      <th>63</th>\n",
       "      <td>Snell Fire</td>\n",
       "      <td>2018-09-08 14:29:00</td>\n",
       "      <td>2019-01-04 09:06:00</td>\n",
       "    </tr>\n",
       "    <tr>\n",
       "      <th>64</th>\n",
       "      <td>Nelson Fire</td>\n",
       "      <td>2018-08-10 16:57:00</td>\n",
       "      <td>2019-01-04 09:20:00</td>\n",
       "    </tr>\n",
       "    <tr>\n",
       "      <th>65</th>\n",
       "      <td>Nurse Fire</td>\n",
       "      <td>2018-11-08 13:28:00</td>\n",
       "      <td>2019-01-04 08:47:00</td>\n",
       "    </tr>\n",
       "    <tr>\n",
       "      <th>66</th>\n",
       "      <td>Grant Fire</td>\n",
       "      <td>2018-07-08 17:38:00</td>\n",
       "      <td>2019-01-04 09:53:00</td>\n",
       "    </tr>\n",
       "    <tr>\n",
       "      <th>67</th>\n",
       "      <td>Grant Fire</td>\n",
       "      <td>2018-05-30 13:21:00</td>\n",
       "      <td>2019-01-04 10:20:00</td>\n",
       "    </tr>\n",
       "    <tr>\n",
       "      <th>68</th>\n",
       "      <td>Country Fire</td>\n",
       "      <td>2018-07-22 13:06:00</td>\n",
       "      <td>2019-01-04 09:37:00</td>\n",
       "    </tr>\n",
       "    <tr>\n",
       "      <th>69</th>\n",
       "      <td>Valley Fire</td>\n",
       "      <td>2018-06-29 16:06:00</td>\n",
       "      <td>2019-01-04 09:58:00</td>\n",
       "    </tr>\n",
       "    <tr>\n",
       "      <th>70</th>\n",
       "      <td>Marsh Fire</td>\n",
       "      <td>2018-07-25 14:41:00</td>\n",
       "      <td>2019-01-04 09:34:00</td>\n",
       "    </tr>\n",
       "  </tbody>\n",
       "</table>\n",
       "</div>"
      ],
      "text/plain": [
       "               Name    Started_datetime Extinguished_datetime\n",
       "61      County Fire 2018-06-30 14:12:00   2019-01-04 09:57:00\n",
       "62  Branscombe Fire 2018-10-07 13:00:00   2019-01-04 08:57:00\n",
       "63       Snell Fire 2018-09-08 14:29:00   2019-01-04 09:06:00\n",
       "64      Nelson Fire 2018-08-10 16:57:00   2019-01-04 09:20:00\n",
       "65       Nurse Fire 2018-11-08 13:28:00   2019-01-04 08:47:00\n",
       "66       Grant Fire 2018-07-08 17:38:00   2019-01-04 09:53:00\n",
       "67       Grant Fire 2018-05-30 13:21:00   2019-01-04 10:20:00\n",
       "68     Country Fire 2018-07-22 13:06:00   2019-01-04 09:37:00\n",
       "69      Valley Fire 2018-06-29 16:06:00   2019-01-04 09:58:00\n",
       "70       Marsh Fire 2018-07-25 14:41:00   2019-01-04 09:34:00"
      ]
     },
     "execution_count": 11,
     "metadata": {},
     "output_type": "execute_result"
    }
   ],
   "source": [
    "# New columns in df for the months in which the fire started and was extinguished\n",
    "fires_df['Started_datetime'] = pd.to_datetime(fires_df['Started_datetime'])\n",
    "fires_df['Extinguished_datetime'] = pd.to_datetime(fires_df['Extinguished_datetime'])\n",
    "fires_df['Started_month'] = fires_df['Started_datetime'].dt.month\n",
    "fires_df['Extinguished_month'] = fires_df['Extinguished_datetime'].dt.month\n",
    "\n",
    "fires_df[fires_df['ArchiveYear']==2018][['Name','Started_datetime','Extinguished_datetime']].head(10)"
   ]
  },
  {
   "cell_type": "markdown",
   "metadata": {},
   "source": [
    "Here, we notice that the extinguished date for fires in 2018 is ALWAYS January 4, 2019, which seems very suspicious. Indeed, a quick Google search reveals the inaccuracy of these data: the Branscombe Fire, for example, was extinguished on Nov. 9, 2018, while the Snell Fire was extinguished on September 15, 2018.\n",
    "\n",
    "Given the clear inaccuracies here, we will need to take steps to find better data for 2017 and 2018. In the meantime, as the other fields for 2017-2018 seem to be accurate, we will not use the Extinguished date information in our analyses."
   ]
  },
  {
   "cell_type": "markdown",
   "metadata": {},
   "source": [
    "Next, we would like to investigate whether the length of the fire season has stayed constant since 2015, and in which months the most fires tended to occur. This will be another important measure when we start combining datasets, as it will give us a sense of when the fire season generally was in these years; we will then be able to look into the question of whether a more extended fire season has more pronounced effects on travel, etc."
   ]
  },
  {
   "cell_type": "code",
   "execution_count": 34,
   "metadata": {
    "scrolled": true
   },
   "outputs": [
    {
     "data": {
      "text/plain": [
       "<seaborn.axisgrid.FacetGrid at 0x7f55f80a1dd8>"
      ]
     },
     "execution_count": 34,
     "metadata": {},
     "output_type": "execute_result"
    },
    {
     "data": {
      "image/png": "[encoded data removed]",
      "text/plain": [
       "<Figure size 648x432 with 6 Axes>"
      ]
     },
     "metadata": {
      "needs_background": "light"
     },
     "output_type": "display_data"
    }
   ],
   "source": [
    "# Plotting the number of fires per month, for each year of our data\n",
    "g1 = sns.FacetGrid(fires_df, col='ArchiveYear', col_wrap=3)\n",
    "g1.map(sns.countplot, 'Started_month', order=list(range(1,13)))"
   ]
  },
  {
   "cell_type": "markdown",
   "metadata": {},
   "source": [
    "From these plots, we can see that the fire season seems to have grown longer on average over the years: In 2016 and 2017, all fires started in the months from May through September, while in 2018-2020, the season was at least one month longer, with fires extending into October/November, and starting in April in 2020.\n",
    "\n",
    "We will also investigate the number of acres burned on a month-by-month basis:"
   ]
  },
  {
   "cell_type": "code",
   "execution_count": 68,
   "metadata": {
    "scrolled": false
   },
   "outputs": [
    {
     "name": "stdout",
     "output_type": "stream",
     "text": [
      "Total acres burned by month in 2015 :\n"
     ]
    },
    {
     "data": {
      "image/png": "[encoded data removed]",
      "text/plain": [
       "<Figure size 432x288 with 1 Axes>"
      ]
     },
     "metadata": {
      "needs_background": "light"
     },
     "output_type": "display_data"
    },
    {
     "name": "stdout",
     "output_type": "stream",
     "text": [
      "Total acres burned by month in 2016 :\n"
     ]
    },
    {
     "data": {
      "image/png": "[encoded data removed]",
      "text/plain": [
       "<Figure size 432x288 with 1 Axes>"
      ]
     },
     "metadata": {
      "needs_background": "light"
     },
     "output_type": "display_data"
    },
    {
     "name": "stdout",
     "output_type": "stream",
     "text": [
      "Total acres burned by month in 2017 :\n"
     ]
    },
    {
     "data": {
      "image/png": "[encoded data removed]",
      "text/plain": [
       "<Figure size 432x288 with 1 Axes>"
      ]
     },
     "metadata": {
      "needs_background": "light"
     },
     "output_type": "display_data"
    },
    {
     "name": "stdout",
     "output_type": "stream",
     "text": [
      "Total acres burned by month in 2018 :\n"
     ]
    },
    {
     "data": {
      "image/png": "[encoded data removed]",
      "text/plain": [
       "<Figure size 432x288 with 1 Axes>"
      ]
     },
     "metadata": {
      "needs_background": "light"
     },
     "output_type": "display_data"
    },
    {
     "name": "stdout",
     "output_type": "stream",
     "text": [
      "Total acres burned by month in 2019 :\n"
     ]
    },
    {
     "data": {
      "image/png": "[encoded data removed]",
      "text/plain": [
       "<Figure size 432x288 with 1 Axes>"
      ]
     },
     "metadata": {
      "needs_background": "light"
     },
     "output_type": "display_data"
    },
    {
     "name": "stdout",
     "output_type": "stream",
     "text": [
      "Total acres burned by month in 2020 :\n"
     ]
    },
    {
     "data": {
      "image/png": "[encoded data removed]",
      "text/plain": [
       "<Figure size 432x288 with 1 Axes>"
      ]
     },
     "metadata": {
      "needs_background": "light"
     },
     "output_type": "display_data"
    }
   ],
   "source": [
    "for year in fires_df['ArchiveYear'].unique():\n",
    "    sns.barplot(data=fires_df[fires_df['ArchiveYear']==year], x='Started_month', y='AcresBurned', \n",
    "                order=list(range(1,13)), ci=None, estimator=sum)\n",
    "    print('Total acres burned by month in', year, ':')\n",
    "    plt.show()"
   ]
  },
  {
   "cell_type": "markdown",
   "metadata": {},
   "source": [
    "From these plots, we see that, in each year, there was one month where acres burned far outstripped the other months - perhaps a result of a single major fire incident. However, there is no trend visible in regards to which month this major incident tends to occur in. Regardless, we will keep these monthly breakdowns in mind as a measure of severity of the fires each year.\n",
    "\n",
    "Next, we will investigate the fires on a county-by-county level to look for any notable features or trends."
   ]
  },
  {
   "cell_type": "code",
   "execution_count": 47,
   "metadata": {},
   "outputs": [],
   "source": [
    "# Function to graph the number of wildfires active in each county for each year of our data\n",
    "def graph_by_county(county):\n",
    "    county_df = fires_df.copy()\n",
    "    \n",
    "    def check_county(list_of_counties):\n",
    "        if county in list_of_counties:\n",
    "            return True\n",
    "        else:\n",
    "            return False\n",
    "        \n",
    "    county_df['In_county'] = county_df['Counties'].apply(check_county)\n",
    "    \n",
    "    print('Number of fires in', county, 'County over time:')\n",
    "    county_df[county_df['In_county']==True].groupby('ArchiveYear')['UniqueId'].count().plot.bar()\n",
    "    plt.show()"
   ]
  },
  {
   "cell_type": "code",
   "execution_count": 48,
   "metadata": {
    "scrolled": false
   },
   "outputs": [
    {
     "name": "stdout",
     "output_type": "stream",
     "text": [
      "Number of fires in Alameda County over time:\n"
     ]
    },
    {
     "data": {
      "image/png": "[encoded data removed]",
      "text/plain": [
       "<Figure size 432x288 with 1 Axes>"
      ]
     },
     "metadata": {
      "needs_background": "light"
     },
     "output_type": "display_data"
    },
    {
     "name": "stdout",
     "output_type": "stream",
     "text": [
      "Number of fires in Contra Costa County over time:\n"
     ]
    },
    {
     "data": {
      "image/png": "[encoded data removed]",
      "text/plain": [
       "<Figure size 432x288 with 1 Axes>"
      ]
     },
     "metadata": {
      "needs_background": "light"
     },
     "output_type": "display_data"
    },
    {
     "name": "stdout",
     "output_type": "stream",
     "text": [
      "Number of fires in Marin County over time:\n"
     ]
    },
    {
     "data": {
      "image/png": "[encoded data removed]",
      "text/plain": [
       "<Figure size 432x288 with 1 Axes>"
      ]
     },
     "metadata": {
      "needs_background": "light"
     },
     "output_type": "display_data"
    },
    {
     "name": "stdout",
     "output_type": "stream",
     "text": [
      "Number of fires in Napa County over time:\n"
     ]
    },
    {
     "data": {
      "image/png": "[encoded data removed]",
      "text/plain": [
       "<Figure size 432x288 with 1 Axes>"
      ]
     },
     "metadata": {
      "needs_background": "light"
     },
     "output_type": "display_data"
    },
    {
     "name": "stdout",
     "output_type": "stream",
     "text": [
      "Number of fires in San Mateo County over time:\n"
     ]
    },
    {
     "data": {
      "image/png": "[encoded data removed]",
      "text/plain": [
       "<Figure size 432x288 with 1 Axes>"
      ]
     },
     "metadata": {
      "needs_background": "light"
     },
     "output_type": "display_data"
    },
    {
     "name": "stdout",
     "output_type": "stream",
     "text": [
      "Number of fires in Santa Clara County over time:\n"
     ]
    },
    {
     "data": {
      "image/png": "[encoded data removed]",
      "text/plain": [
       "<Figure size 432x288 with 1 Axes>"
      ]
     },
     "metadata": {
      "needs_background": "light"
     },
     "output_type": "display_data"
    },
    {
     "name": "stdout",
     "output_type": "stream",
     "text": [
      "Number of fires in Solano County over time:\n"
     ]
    },
    {
     "data": {
      "image/png": "[encoded data removed]",
      "text/plain": [
       "<Figure size 432x288 with 1 Axes>"
      ]
     },
     "metadata": {
      "needs_background": "light"
     },
     "output_type": "display_data"
    },
    {
     "name": "stdout",
     "output_type": "stream",
     "text": [
      "Number of fires in Sonoma County over time:\n"
     ]
    },
    {
     "data": {
      "image/png": "[encoded data removed]",
      "text/plain": [
       "<Figure size 432x288 with 1 Axes>"
      ]
     },
     "metadata": {
      "needs_background": "light"
     },
     "output_type": "display_data"
    }
   ],
   "source": [
    "bay_area_counties = ['Alameda', 'Contra Costa', 'Marin', 'Napa', 'San Mateo',\n",
    "                     'Santa Clara', 'Solano', 'Sonoma']\n",
    "\n",
    "for i in bay_area_counties:\n",
    "    graph_by_county(i)"
   ]
  },
  {
   "cell_type": "markdown",
   "metadata": {},
   "source": [
    "We see that there were very few fires in Marin and San Mateo. In Alameda, Contra Costa, Santa Clara, and Solano, the peak number of fires was recorded around 2019, with a slight dip in 2020 in most counties. In Napa and Sonoma (which neighbor each other), on the other hand, we see that 2017 was a particularly bad year.  \n",
    "\n",
    "Because there are relatively few fires per year per county, it is difficult to draw any firm conclusions from these data. However, we will keep these observations in mind as we combine the fires data with our other datasets.\n",
    "\n",
    "Unfortunately, because metrics like acres burned and fatalities are not broken down by county in this dataset, it is difficult to measure the severity of multi-county fire incidents within each individual county.\n",
    "\n",
    "The main next step for this dataset is to research possible sources to fill in the incorrect Extinguished dates for 2017 and 2018. After that is accomplished, these data will be ready to link to our other datasets, and we may begin conducting more in-depth EDA and preliminary correlation analyses."
   ]
  }
 ],
 "metadata": {
  "kernelspec": {
   "display_name": "Python 3",
   "language": "python",
   "name": "python3"
  },
  "language_info": {
   "codemirror_mode": {
    "name": "ipython",
    "version": 3
   },
   "file_extension": ".py",
   "mimetype": "text/x-python",
   "name": "python",
   "nbconvert_exporter": "python",
   "pygments_lexer": "ipython3",
   "version": "3.6.7"
  }
 },
 "nbformat": 4,
 "nbformat_minor": 2
}
