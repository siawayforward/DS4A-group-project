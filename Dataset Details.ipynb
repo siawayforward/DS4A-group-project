{
 "metadata": {
  "language_info": {
   "codemirror_mode": {
    "name": "ipython",
    "version": 3
   },
   "file_extension": ".py",
   "mimetype": "text/x-python",
   "name": "python",
   "nbconvert_exporter": "python",
   "pygments_lexer": "ipython3",
   "version": "3.7.7-final"
  },
  "orig_nbformat": 2,
  "kernelspec": {
   "name": "python3",
   "display_name": "Python 3"
  }
 },
 "nbformat": 4,
 "nbformat_minor": 2,
 "cells": [
  {
   "source": [
    "# Project Dataset Details\n",
    "### Team 88: Names\n",
    "\n",
    "\n",
    "### Leaving questions here for now:\n",
    "## Questions:\n",
    "- How many data sources are you using? Where are you getting the data from? Is it publicly available? Who provides the data? What challenges/biases might be present based on your answers? ***Refer to scoping document; maybe add a little more about bias***\n",
    "- How large are your data sets? ***Scoping document data section*** Do you foresee any hardware restrictions in analyzing your data? Will you need to use creative methods to handle your data (working in smaller batches, outsourcing computing etc.) -- usually a problem if 4 GB or bigger \n",
    "- What variables do you have in your data? What data types do you have? ***Scoping document data section*** How will you manage them? Will you have to change any parameters?\n",
    "- How complete is your data? How will you be addressing NAs?\n",
    "- Do you need more data at this point?\n",
    "- What keys exist for record linkaging if you need to do so in the future? ***See data tracker that Isa made***\n",
    "> Looking for “extensible” variables, e.g. zip code, which can be matched to other datasets and lead to interesting questions and opportunities for expansion\n",
    "- What are the most interesting data points?\n",
    "> Look at head/tail, start graphing, what stands out??\n",
    "- Are there any data points that you don't have yet that you would like or need for your analysis?\n",
    "- Are there any additional steps required in your data collection process right now?\n",
    "> More data? Contact dataset procurers to get clarity?\n"
   ],
   "cell_type": "markdown",
   "metadata": {}
  },
  {
   "cell_type": "code",
   "execution_count": 4,
   "metadata": {},
   "outputs": [],
   "source": [
    "#modules\n",
    "import pandas as pd\n",
    "import numpy as np "
   ]
  },
  {
   "source": [
    "### [California Wildfire Incidents](https://www.kaggle.com/ananthu017/california-wildfire-incidents-20132020) Dataset: \n",
    "The dataset records wildfire incidents in California in 2013–2019. The strength of this dataset is the amount of data and the length of time that it spans.\n",
    "\n"
   ],
   "cell_type": "markdown",
   "metadata": {}
  },
  {
   "cell_type": "code",
   "execution_count": 5,
   "metadata": {},
   "outputs": [
    {
     "output_type": "execute_result",
     "data": {
      "text/plain": [
       "   AcresBurned  Active                                          AdminUnit  \\\n",
       "0     257314.0   False  Stanislaus National Forest/Yosemite National Park   \n",
       "1      30274.0   False  USFS Angeles National Forest/Los Angeles Count...   \n",
       "2      27531.0   False  CAL FIRE Riverside Unit / San Bernardino Natio...   \n",
       "\n",
       "   AirTankers  ArchiveYear  CalFireIncident  \\\n",
       "0         NaN         2013             True   \n",
       "1         NaN         2013             True   \n",
       "2         NaN         2013             True   \n",
       "\n",
       "                            CanonicalUrl ConditionStatement ControlStatement  \\\n",
       "0         /incidents/2013/8/17/rim-fire/                NaN              NaN   \n",
       "1  /incidents/2013/5/30/powerhouse-fire/                NaN              NaN   \n",
       "2    /incidents/2013/7/15/mountain-fire/                NaN              NaN   \n",
       "\n",
       "      Counties  ...                                     SearchKeywords  \\\n",
       "0     Tuolumne  ...  Rim Fire, Stanislaus National Forest, Yosemite...   \n",
       "1  Los Angeles  ...  Powerhouse Fire, May 2013, June 2013, Angeles ...   \n",
       "2    Riverside  ...  Mountain Fire, July 2013, Highway 243, Highway...   \n",
       "\n",
       "                Started     Status  StructuresDamaged StructuresDestroyed  \\\n",
       "0  2013-08-17T15:25:00Z  Finalized                NaN                 NaN   \n",
       "1  2013-05-30T15:28:00Z  Finalized                NaN                 NaN   \n",
       "2  2013-07-15T13:43:00Z  Finalized                NaN                 NaN   \n",
       "\n",
       "   StructuresEvacuated  StructuresThreatened  \\\n",
       "0                  NaN                   NaN   \n",
       "1                  NaN                   NaN   \n",
       "2                  NaN                   NaN   \n",
       "\n",
       "                               UniqueId               Updated  WaterTenders  \n",
       "0  5fb18d4d-213f-4d83-a179-daaf11939e78  2013-09-06T18:30:00Z           NaN  \n",
       "1  bf37805e-1cc2-4208-9972-753e47874c87  2013-06-08T18:30:00Z           NaN  \n",
       "2  a3149fec-4d48-427c-8b2c-59e8b79d59db  2013-07-30T18:00:00Z           NaN  \n",
       "\n",
       "[3 rows x 40 columns]"
      ],
      "text/html": "<div>\n<style scoped>\n    .dataframe tbody tr th:only-of-type {\n        vertical-align: middle;\n    }\n\n    .dataframe tbody tr th {\n        vertical-align: top;\n    }\n\n    .dataframe thead th {\n        text-align: right;\n    }\n</style>\n<table border=\"1\" class=\"dataframe\">\n  <thead>\n    <tr style=\"text-align: right;\">\n      <th></th>\n      <th>AcresBurned</th>\n      <th>Active</th>\n      <th>AdminUnit</th>\n      <th>AirTankers</th>\n      <th>ArchiveYear</th>\n      <th>CalFireIncident</th>\n      <th>CanonicalUrl</th>\n      <th>ConditionStatement</th>\n      <th>ControlStatement</th>\n      <th>Counties</th>\n      <th>...</th>\n      <th>SearchKeywords</th>\n      <th>Started</th>\n      <th>Status</th>\n      <th>StructuresDamaged</th>\n      <th>StructuresDestroyed</th>\n      <th>StructuresEvacuated</th>\n      <th>StructuresThreatened</th>\n      <th>UniqueId</th>\n      <th>Updated</th>\n      <th>WaterTenders</th>\n    </tr>\n  </thead>\n  <tbody>\n    <tr>\n      <th>0</th>\n      <td>257314.0</td>\n      <td>False</td>\n      <td>Stanislaus National Forest/Yosemite National Park</td>\n      <td>NaN</td>\n      <td>2013</td>\n      <td>True</td>\n      <td>/incidents/2013/8/17/rim-fire/</td>\n      <td>NaN</td>\n      <td>NaN</td>\n      <td>Tuolumne</td>\n      <td>...</td>\n      <td>Rim Fire, Stanislaus National Forest, Yosemite...</td>\n      <td>2013-08-17T15:25:00Z</td>\n      <td>Finalized</td>\n      <td>NaN</td>\n      <td>NaN</td>\n      <td>NaN</td>\n      <td>NaN</td>\n      <td>5fb18d4d-213f-4d83-a179-daaf11939e78</td>\n      <td>2013-09-06T18:30:00Z</td>\n      <td>NaN</td>\n    </tr>\n    <tr>\n      <th>1</th>\n      <td>30274.0</td>\n      <td>False</td>\n      <td>USFS Angeles National Forest/Los Angeles Count...</td>\n      <td>NaN</td>\n      <td>2013</td>\n      <td>True</td>\n      <td>/incidents/2013/5/30/powerhouse-fire/</td>\n      <td>NaN</td>\n      <td>NaN</td>\n      <td>Los Angeles</td>\n      <td>...</td>\n      <td>Powerhouse Fire, May 2013, June 2013, Angeles ...</td>\n      <td>2013-05-30T15:28:00Z</td>\n      <td>Finalized</td>\n      <td>NaN</td>\n      <td>NaN</td>\n      <td>NaN</td>\n      <td>NaN</td>\n      <td>bf37805e-1cc2-4208-9972-753e47874c87</td>\n      <td>2013-06-08T18:30:00Z</td>\n      <td>NaN</td>\n    </tr>\n    <tr>\n      <th>2</th>\n      <td>27531.0</td>\n      <td>False</td>\n      <td>CAL FIRE Riverside Unit / San Bernardino Natio...</td>\n      <td>NaN</td>\n      <td>2013</td>\n      <td>True</td>\n      <td>/incidents/2013/7/15/mountain-fire/</td>\n      <td>NaN</td>\n      <td>NaN</td>\n      <td>Riverside</td>\n      <td>...</td>\n      <td>Mountain Fire, July 2013, Highway 243, Highway...</td>\n      <td>2013-07-15T13:43:00Z</td>\n      <td>Finalized</td>\n      <td>NaN</td>\n      <td>NaN</td>\n      <td>NaN</td>\n      <td>NaN</td>\n      <td>a3149fec-4d48-427c-8b2c-59e8b79d59db</td>\n      <td>2013-07-30T18:00:00Z</td>\n      <td>NaN</td>\n    </tr>\n  </tbody>\n</table>\n<p>3 rows × 40 columns</p>\n</div>"
     },
     "metadata": {},
     "execution_count": 5
    }
   ],
   "source": [
    "df_fires = pd.read_csv('data/California_Fire_Incidents.csv')\n",
    "df_fires.head(3) "
   ]
  },
  {
   "cell_type": "code",
   "execution_count": 6,
   "metadata": {},
   "outputs": [
    {
     "output_type": "execute_result",
     "data": {
      "text/plain": [
       "         AcresBurned  AirTankers  ArchiveYear  CrewsInvolved      Dozers  \\\n",
       "count    1633.000000   28.000000  1636.000000     171.000000  123.000000   \n",
       "mean     4589.443968    4.071429  2016.608802      11.561404    7.585366   \n",
       "std     27266.337722    6.399818     1.845340      14.455633   14.028616   \n",
       "min         0.000000    0.000000  2013.000000       0.000000    0.000000   \n",
       "25%        35.000000    2.000000  2015.000000       2.500000    1.000000   \n",
       "50%       100.000000    2.000000  2017.000000       6.000000    2.000000   \n",
       "75%       422.000000    4.000000  2018.000000      13.500000    5.000000   \n",
       "max    410203.000000   27.000000  2019.000000      82.000000   76.000000   \n",
       "\n",
       "          Engines  Fatalities  Helicopters    Injuries     Latitude  \\\n",
       "count  191.000000   21.000000    84.000000  120.000000  1636.000000   \n",
       "mean    23.565445    8.619048     5.357143    3.500000    37.203975   \n",
       "std     41.004424   18.529642     7.265437    3.806231   135.401380   \n",
       "min      0.000000    1.000000     0.000000    0.000000  -120.258000   \n",
       "25%      5.000000    1.000000     1.000000    1.000000    34.165890   \n",
       "50%     11.000000    3.000000     2.000000    3.000000    37.104065   \n",
       "75%     24.000000    6.000000     5.000000    4.000000    39.086808   \n",
       "max    256.000000   85.000000    29.000000   26.000000  5487.000000   \n",
       "\n",
       "         Longitude  PercentContained  PersonnelInvolved  StructuresDamaged  \\\n",
       "count  1636.000000            1633.0         204.000000          67.000000   \n",
       "mean   -108.082642             100.0         328.553922          67.970149   \n",
       "std      37.006927               0.0         521.138789         155.771975   \n",
       "min    -124.196290             100.0           0.000000           0.000000   \n",
       "25%    -121.768358             100.0          55.000000           1.000000   \n",
       "50%    -120.461560             100.0         151.500000           6.000000   \n",
       "75%    -117.474072             100.0         350.000000          49.500000   \n",
       "max     118.908200             100.0        3100.000000         783.000000   \n",
       "\n",
       "       StructuresDestroyed  StructuresEvacuated  StructuresThreatened  \\\n",
       "count           175.000000                  0.0             30.000000   \n",
       "mean            271.788571                  NaN            522.800000   \n",
       "std            1557.255963                  NaN            739.586856   \n",
       "min               0.000000                  NaN              0.000000   \n",
       "25%               1.000000                  NaN              0.000000   \n",
       "50%               7.000000                  NaN             45.000000   \n",
       "75%              41.500000                  NaN           1043.750000   \n",
       "max           18804.000000                  NaN           2600.000000   \n",
       "\n",
       "       WaterTenders  \n",
       "count    146.000000  \n",
       "mean       7.815068  \n",
       "std       12.719251  \n",
       "min        1.000000  \n",
       "25%        2.000000  \n",
       "50%        4.000000  \n",
       "75%        6.000000  \n",
       "max       79.000000  "
      ],
      "text/html": "<div>\n<style scoped>\n    .dataframe tbody tr th:only-of-type {\n        vertical-align: middle;\n    }\n\n    .dataframe tbody tr th {\n        vertical-align: top;\n    }\n\n    .dataframe thead th {\n        text-align: right;\n    }\n</style>\n<table border=\"1\" class=\"dataframe\">\n  <thead>\n    <tr style=\"text-align: right;\">\n      <th></th>\n      <th>AcresBurned</th>\n      <th>AirTankers</th>\n      <th>ArchiveYear</th>\n      <th>CrewsInvolved</th>\n      <th>Dozers</th>\n      <th>Engines</th>\n      <th>Fatalities</th>\n      <th>Helicopters</th>\n      <th>Injuries</th>\n      <th>Latitude</th>\n      <th>Longitude</th>\n      <th>PercentContained</th>\n      <th>PersonnelInvolved</th>\n      <th>StructuresDamaged</th>\n      <th>StructuresDestroyed</th>\n      <th>StructuresEvacuated</th>\n      <th>StructuresThreatened</th>\n      <th>WaterTenders</th>\n    </tr>\n  </thead>\n  <tbody>\n    <tr>\n      <th>count</th>\n      <td>1633.000000</td>\n      <td>28.000000</td>\n      <td>1636.000000</td>\n      <td>171.000000</td>\n      <td>123.000000</td>\n      <td>191.000000</td>\n      <td>21.000000</td>\n      <td>84.000000</td>\n      <td>120.000000</td>\n      <td>1636.000000</td>\n      <td>1636.000000</td>\n      <td>1633.0</td>\n      <td>204.000000</td>\n      <td>67.000000</td>\n      <td>175.000000</td>\n      <td>0.0</td>\n      <td>30.000000</td>\n      <td>146.000000</td>\n    </tr>\n    <tr>\n      <th>mean</th>\n      <td>4589.443968</td>\n      <td>4.071429</td>\n      <td>2016.608802</td>\n      <td>11.561404</td>\n      <td>7.585366</td>\n      <td>23.565445</td>\n      <td>8.619048</td>\n      <td>5.357143</td>\n      <td>3.500000</td>\n      <td>37.203975</td>\n      <td>-108.082642</td>\n      <td>100.0</td>\n      <td>328.553922</td>\n      <td>67.970149</td>\n      <td>271.788571</td>\n      <td>NaN</td>\n      <td>522.800000</td>\n      <td>7.815068</td>\n    </tr>\n    <tr>\n      <th>std</th>\n      <td>27266.337722</td>\n      <td>6.399818</td>\n      <td>1.845340</td>\n      <td>14.455633</td>\n      <td>14.028616</td>\n      <td>41.004424</td>\n      <td>18.529642</td>\n      <td>7.265437</td>\n      <td>3.806231</td>\n      <td>135.401380</td>\n      <td>37.006927</td>\n      <td>0.0</td>\n      <td>521.138789</td>\n      <td>155.771975</td>\n      <td>1557.255963</td>\n      <td>NaN</td>\n      <td>739.586856</td>\n      <td>12.719251</td>\n    </tr>\n    <tr>\n      <th>min</th>\n      <td>0.000000</td>\n      <td>0.000000</td>\n      <td>2013.000000</td>\n      <td>0.000000</td>\n      <td>0.000000</td>\n      <td>0.000000</td>\n      <td>1.000000</td>\n      <td>0.000000</td>\n      <td>0.000000</td>\n      <td>-120.258000</td>\n      <td>-124.196290</td>\n      <td>100.0</td>\n      <td>0.000000</td>\n      <td>0.000000</td>\n      <td>0.000000</td>\n      <td>NaN</td>\n      <td>0.000000</td>\n      <td>1.000000</td>\n    </tr>\n    <tr>\n      <th>25%</th>\n      <td>35.000000</td>\n      <td>2.000000</td>\n      <td>2015.000000</td>\n      <td>2.500000</td>\n      <td>1.000000</td>\n      <td>5.000000</td>\n      <td>1.000000</td>\n      <td>1.000000</td>\n      <td>1.000000</td>\n      <td>34.165890</td>\n      <td>-121.768358</td>\n      <td>100.0</td>\n      <td>55.000000</td>\n      <td>1.000000</td>\n      <td>1.000000</td>\n      <td>NaN</td>\n      <td>0.000000</td>\n      <td>2.000000</td>\n    </tr>\n    <tr>\n      <th>50%</th>\n      <td>100.000000</td>\n      <td>2.000000</td>\n      <td>2017.000000</td>\n      <td>6.000000</td>\n      <td>2.000000</td>\n      <td>11.000000</td>\n      <td>3.000000</td>\n      <td>2.000000</td>\n      <td>3.000000</td>\n      <td>37.104065</td>\n      <td>-120.461560</td>\n      <td>100.0</td>\n      <td>151.500000</td>\n      <td>6.000000</td>\n      <td>7.000000</td>\n      <td>NaN</td>\n      <td>45.000000</td>\n      <td>4.000000</td>\n    </tr>\n    <tr>\n      <th>75%</th>\n      <td>422.000000</td>\n      <td>4.000000</td>\n      <td>2018.000000</td>\n      <td>13.500000</td>\n      <td>5.000000</td>\n      <td>24.000000</td>\n      <td>6.000000</td>\n      <td>5.000000</td>\n      <td>4.000000</td>\n      <td>39.086808</td>\n      <td>-117.474072</td>\n      <td>100.0</td>\n      <td>350.000000</td>\n      <td>49.500000</td>\n      <td>41.500000</td>\n      <td>NaN</td>\n      <td>1043.750000</td>\n      <td>6.000000</td>\n    </tr>\n    <tr>\n      <th>max</th>\n      <td>410203.000000</td>\n      <td>27.000000</td>\n      <td>2019.000000</td>\n      <td>82.000000</td>\n      <td>76.000000</td>\n      <td>256.000000</td>\n      <td>85.000000</td>\n      <td>29.000000</td>\n      <td>26.000000</td>\n      <td>5487.000000</td>\n      <td>118.908200</td>\n      <td>100.0</td>\n      <td>3100.000000</td>\n      <td>783.000000</td>\n      <td>18804.000000</td>\n      <td>NaN</td>\n      <td>2600.000000</td>\n      <td>79.000000</td>\n    </tr>\n  </tbody>\n</table>\n</div>"
     },
     "metadata": {},
     "execution_count": 6
    }
   ],
   "source": [
    "df_fires.describe()"
   ]
  },
  {
   "cell_type": "code",
   "execution_count": 7,
   "metadata": {},
   "outputs": [
    {
     "output_type": "execute_result",
     "data": {
      "text/plain": [
       "Index(['AcresBurned', 'Active', 'AdminUnit', 'AirTankers', 'ArchiveYear',\n",
       "       'CalFireIncident', 'CanonicalUrl', 'ConditionStatement',\n",
       "       'ControlStatement', 'Counties', 'CountyIds', 'CrewsInvolved', 'Dozers',\n",
       "       'Engines', 'Extinguished', 'Fatalities', 'Featured', 'Final',\n",
       "       'FuelType', 'Helicopters', 'Injuries', 'Latitude', 'Location',\n",
       "       'Longitude', 'MajorIncident', 'Name', 'PercentContained',\n",
       "       'PersonnelInvolved', 'Public', 'SearchDescription', 'SearchKeywords',\n",
       "       'Started', 'Status', 'StructuresDamaged', 'StructuresDestroyed',\n",
       "       'StructuresEvacuated', 'StructuresThreatened', 'UniqueId', 'Updated',\n",
       "       'WaterTenders'],\n",
       "      dtype='object')"
      ]
     },
     "metadata": {},
     "execution_count": 7
    }
   ],
   "source": [
    "df_fires.columns"
   ]
  },
  {
   "source": [
    "### Data Structure and Variables\n",
    "From work done for the scoping document, we know the following about the main variables of interest. In general, the dataset is explored below to review the structure and shape.\n",
    "\n",
    "**Relevant fields include: ** \n",
    "- Counties (string): counties in which the fire was active\n",
    "- County ID (int): integer to represent county where fire was active\n",
    "- Started (datetime): date the fire started\n",
    "- Updated (datetime): date the fire incident was last updated\n",
    "- Extinguished (datetime): date the fire was extinguished\n",
    "- Latitude and Longitude (float)\n",
    "\n"
   ],
   "cell_type": "markdown",
   "metadata": {}
  },
  {
   "cell_type": "code",
   "execution_count": 8,
   "metadata": {},
   "outputs": [
    {
     "output_type": "stream",
     "name": "stdout",
     "text": [
      "The size of the dataset is 1636 rows and 40 columns\n"
     ]
    }
   ],
   "source": [
    "size = df_fires.shape\n",
    "print('The size of the dataset is {} rows and {} columns'.format(size[0], size[1]))"
   ]
  },
  {
   "cell_type": "code",
   "execution_count": 9,
   "metadata": {},
   "outputs": [],
   "source": [
    "#Checking missing values and data types\n",
    "null_values = [len(df_fires) -  df_fires[col].count() for col in list(df_fires.columns)]\n",
    "data_types = [str(item) for item in list(df_fires.dtypes)]\n",
    "df_fires_null = pd.DataFrame([list(df_fires.columns), null_values, data_types]).transpose()"
   ]
  },
  {
   "cell_type": "code",
   "execution_count": 10,
   "metadata": {},
   "outputs": [
    {
     "output_type": "stream",
     "name": "stdout",
     "text": [
      "Missing Values by Columns:\n"
     ]
    },
    {
     "output_type": "execute_result",
     "data": {
      "text/plain": [
       "                Features Count Missing Data Type\n",
       "0            AcresBurned             3   float64\n",
       "1                 Active             0      bool\n",
       "2              AdminUnit             0    object\n",
       "3             AirTankers          1608   float64\n",
       "4            ArchiveYear             0     int64\n",
       "5        CalFireIncident             0      bool\n",
       "6           CanonicalUrl             0    object\n",
       "7     ConditionStatement          1352    object\n",
       "8       ControlStatement          1525    object\n",
       "9               Counties             0    object\n",
       "10             CountyIds             0    object\n",
       "11         CrewsInvolved          1465   float64\n",
       "12                Dozers          1513   float64\n",
       "13               Engines          1445   float64\n",
       "14          Extinguished            59    object\n",
       "15            Fatalities          1615   float64\n",
       "16              Featured             0      bool\n",
       "17                 Final             0      bool\n",
       "18              FuelType          1624    object\n",
       "19           Helicopters          1552   float64\n",
       "20              Injuries          1516   float64\n",
       "21              Latitude             0   float64\n",
       "22              Location             0    object\n",
       "23             Longitude             0   float64\n",
       "24         MajorIncident             0      bool\n",
       "25                  Name             0    object\n",
       "26      PercentContained             3   float64\n",
       "27     PersonnelInvolved          1432   float64\n",
       "28                Public             0      bool\n",
       "29     SearchDescription            17    object\n",
       "30        SearchKeywords           203    object\n",
       "31               Started             0    object\n",
       "32                Status             0    object\n",
       "33     StructuresDamaged          1569   float64\n",
       "34   StructuresDestroyed          1461   float64\n",
       "35   StructuresEvacuated          1636   float64\n",
       "36  StructuresThreatened          1606   float64\n",
       "37              UniqueId             0    object\n",
       "38               Updated             0    object\n",
       "39          WaterTenders          1490   float64"
      ],
      "text/html": "<div>\n<style scoped>\n    .dataframe tbody tr th:only-of-type {\n        vertical-align: middle;\n    }\n\n    .dataframe tbody tr th {\n        vertical-align: top;\n    }\n\n    .dataframe thead th {\n        text-align: right;\n    }\n</style>\n<table border=\"1\" class=\"dataframe\">\n  <thead>\n    <tr style=\"text-align: right;\">\n      <th></th>\n      <th>Features</th>\n      <th>Count Missing</th>\n      <th>Data Type</th>\n    </tr>\n  </thead>\n  <tbody>\n    <tr>\n      <th>0</th>\n      <td>AcresBurned</td>\n      <td>3</td>\n      <td>float64</td>\n    </tr>\n    <tr>\n      <th>1</th>\n      <td>Active</td>\n      <td>0</td>\n      <td>bool</td>\n    </tr>\n    <tr>\n      <th>2</th>\n      <td>AdminUnit</td>\n      <td>0</td>\n      <td>object</td>\n    </tr>\n    <tr>\n      <th>3</th>\n      <td>AirTankers</td>\n      <td>1608</td>\n      <td>float64</td>\n    </tr>\n    <tr>\n      <th>4</th>\n      <td>ArchiveYear</td>\n      <td>0</td>\n      <td>int64</td>\n    </tr>\n    <tr>\n      <th>5</th>\n      <td>CalFireIncident</td>\n      <td>0</td>\n      <td>bool</td>\n    </tr>\n    <tr>\n      <th>6</th>\n      <td>CanonicalUrl</td>\n      <td>0</td>\n      <td>object</td>\n    </tr>\n    <tr>\n      <th>7</th>\n      <td>ConditionStatement</td>\n      <td>1352</td>\n      <td>object</td>\n    </tr>\n    <tr>\n      <th>8</th>\n      <td>ControlStatement</td>\n      <td>1525</td>\n      <td>object</td>\n    </tr>\n    <tr>\n      <th>9</th>\n      <td>Counties</td>\n      <td>0</td>\n      <td>object</td>\n    </tr>\n    <tr>\n      <th>10</th>\n      <td>CountyIds</td>\n      <td>0</td>\n      <td>object</td>\n    </tr>\n    <tr>\n      <th>11</th>\n      <td>CrewsInvolved</td>\n      <td>1465</td>\n      <td>float64</td>\n    </tr>\n    <tr>\n      <th>12</th>\n      <td>Dozers</td>\n      <td>1513</td>\n      <td>float64</td>\n    </tr>\n    <tr>\n      <th>13</th>\n      <td>Engines</td>\n      <td>1445</td>\n      <td>float64</td>\n    </tr>\n    <tr>\n      <th>14</th>\n      <td>Extinguished</td>\n      <td>59</td>\n      <td>object</td>\n    </tr>\n    <tr>\n      <th>15</th>\n      <td>Fatalities</td>\n      <td>1615</td>\n      <td>float64</td>\n    </tr>\n    <tr>\n      <th>16</th>\n      <td>Featured</td>\n      <td>0</td>\n      <td>bool</td>\n    </tr>\n    <tr>\n      <th>17</th>\n      <td>Final</td>\n      <td>0</td>\n      <td>bool</td>\n    </tr>\n    <tr>\n      <th>18</th>\n      <td>FuelType</td>\n      <td>1624</td>\n      <td>object</td>\n    </tr>\n    <tr>\n      <th>19</th>\n      <td>Helicopters</td>\n      <td>1552</td>\n      <td>float64</td>\n    </tr>\n    <tr>\n      <th>20</th>\n      <td>Injuries</td>\n      <td>1516</td>\n      <td>float64</td>\n    </tr>\n    <tr>\n      <th>21</th>\n      <td>Latitude</td>\n      <td>0</td>\n      <td>float64</td>\n    </tr>\n    <tr>\n      <th>22</th>\n      <td>Location</td>\n      <td>0</td>\n      <td>object</td>\n    </tr>\n    <tr>\n      <th>23</th>\n      <td>Longitude</td>\n      <td>0</td>\n      <td>float64</td>\n    </tr>\n    <tr>\n      <th>24</th>\n      <td>MajorIncident</td>\n      <td>0</td>\n      <td>bool</td>\n    </tr>\n    <tr>\n      <th>25</th>\n      <td>Name</td>\n      <td>0</td>\n      <td>object</td>\n    </tr>\n    <tr>\n      <th>26</th>\n      <td>PercentContained</td>\n      <td>3</td>\n      <td>float64</td>\n    </tr>\n    <tr>\n      <th>27</th>\n      <td>PersonnelInvolved</td>\n      <td>1432</td>\n      <td>float64</td>\n    </tr>\n    <tr>\n      <th>28</th>\n      <td>Public</td>\n      <td>0</td>\n      <td>bool</td>\n    </tr>\n    <tr>\n      <th>29</th>\n      <td>SearchDescription</td>\n      <td>17</td>\n      <td>object</td>\n    </tr>\n    <tr>\n      <th>30</th>\n      <td>SearchKeywords</td>\n      <td>203</td>\n      <td>object</td>\n    </tr>\n    <tr>\n      <th>31</th>\n      <td>Started</td>\n      <td>0</td>\n      <td>object</td>\n    </tr>\n    <tr>\n      <th>32</th>\n      <td>Status</td>\n      <td>0</td>\n      <td>object</td>\n    </tr>\n    <tr>\n      <th>33</th>\n      <td>StructuresDamaged</td>\n      <td>1569</td>\n      <td>float64</td>\n    </tr>\n    <tr>\n      <th>34</th>\n      <td>StructuresDestroyed</td>\n      <td>1461</td>\n      <td>float64</td>\n    </tr>\n    <tr>\n      <th>35</th>\n      <td>StructuresEvacuated</td>\n      <td>1636</td>\n      <td>float64</td>\n    </tr>\n    <tr>\n      <th>36</th>\n      <td>StructuresThreatened</td>\n      <td>1606</td>\n      <td>float64</td>\n    </tr>\n    <tr>\n      <th>37</th>\n      <td>UniqueId</td>\n      <td>0</td>\n      <td>object</td>\n    </tr>\n    <tr>\n      <th>38</th>\n      <td>Updated</td>\n      <td>0</td>\n      <td>object</td>\n    </tr>\n    <tr>\n      <th>39</th>\n      <td>WaterTenders</td>\n      <td>1490</td>\n      <td>float64</td>\n    </tr>\n  </tbody>\n</table>\n</div>"
     },
     "metadata": {},
     "execution_count": 10
    }
   ],
   "source": [
    "print('Missing Values by Columns:')\n",
    "df_fires_null.rename(columns={0: 'Features', 1: 'Count Missing', 2: 'Data Type'})"
   ]
  },
  {
   "source": [
    "### Datetime objects\n",
    "From the review above, the main features of interest do not have any missing values. Therefore for this part of cleaning, we are set. We will have to convert the `Started` and `Updated` features into datetime objects because they currently appear as `str` objects"
   ],
   "cell_type": "markdown",
   "metadata": {}
  },
  {
   "cell_type": "code",
   "execution_count": 11,
   "metadata": {},
   "outputs": [
    {
     "output_type": "execute_result",
     "data": {
      "text/plain": [
       "                    Started                   Updated\n",
       "0 2013-08-17 15:25:00+00:00 2013-09-06 18:30:00+00:00\n",
       "1 2013-05-30 15:28:00+00:00 2013-06-08 18:30:00+00:00"
      ],
      "text/html": "<div>\n<style scoped>\n    .dataframe tbody tr th:only-of-type {\n        vertical-align: middle;\n    }\n\n    .dataframe tbody tr th {\n        vertical-align: top;\n    }\n\n    .dataframe thead th {\n        text-align: right;\n    }\n</style>\n<table border=\"1\" class=\"dataframe\">\n  <thead>\n    <tr style=\"text-align: right;\">\n      <th></th>\n      <th>Started</th>\n      <th>Updated</th>\n    </tr>\n  </thead>\n  <tbody>\n    <tr>\n      <th>0</th>\n      <td>2013-08-17 15:25:00+00:00</td>\n      <td>2013-09-06 18:30:00+00:00</td>\n    </tr>\n    <tr>\n      <th>1</th>\n      <td>2013-05-30 15:28:00+00:00</td>\n      <td>2013-06-08 18:30:00+00:00</td>\n    </tr>\n  </tbody>\n</table>\n</div>"
     },
     "metadata": {},
     "execution_count": 11
    }
   ],
   "source": [
    "#converting into datetime objects\n",
    "df_fires[['Started', 'Updated']] = df_fires[['Started', 'Updated']].apply(pd.to_datetime)\n",
    "df_fires[['Started', 'Updated']].head(2)"
   ]
  },
  {
   "source": [
    "Other than updating the time variables to be `datetime` objects that we can use for analysis in later stages, we will only be considering counties in the Bay Area for analysis. This would limit our exploration to Alameda, Contra Costa, Marin, Napa, San Francisco, San Mateo, Santa Clara, Solano, and Sonoma counties in California. From above, we seem to have all the counties recorded in the dataset."
   ],
   "cell_type": "markdown",
   "metadata": {}
  },
  {
   "cell_type": "code",
   "execution_count": 19,
   "metadata": {},
   "outputs": [
    {
     "output_type": "execute_result",
     "data": {
      "text/plain": [
       "Alameda         32\n",
       "Contra Costa    27\n",
       "Marin            6\n",
       "Napa            25\n",
       "San Mateo        3\n",
       "Santa Clara     39\n",
       "Solano          19\n",
       "Sonoma          18\n",
       "Name: Counties, dtype: int64"
      ]
     },
     "metadata": {},
     "execution_count": 19
    }
   ],
   "source": [
    "bay_area = ['Alameda', 'Contra Costa', 'Marin', 'Napa', 'San Francisco', 'San Mateo', 'Santa Clara', 'Solano', 'Sonoma']\n",
    "df_fires[df_fires['Counties'].isin(bay_area)]['Counties'].value_counts().sort_index()"
   ]
  },
  {
   "source": [
    "We have recorded incidents from all but San Francisco county. This may be by happenstance, but we can check it by reviewing against other data sources.\n",
    "\n",
    "### Linkage to Other Data Sources\n",
    "We have the variables `ArchiveYear`, `Started`, and `Updated` that are time indicators. We can use the last two and extract a date that can be used to connect to the travel and transportation (daily, annual, and quaterly) datasets for airports and AirBnB bookings, along with the air quality data that has incident dates recorded. \n",
    "\n",
    "Because wildfires themselves have far more severe localized effects on mobility and travel than wildfire-related air pollution, the ability to locate wildfires precisely and indicate them in our visualizations will be critical. On the other hand, a primary limitation of the dataset is that it does not cover 2020, which is widely regarded as the worst year on record for California wildfires. To gain more insight into the 2020 fire season, we may have to scrape data directly from the original source of this dataset ([CAL FIRE](https://www.fire.ca.gov/incidents/)).\n",
    "\n",
    "From above where we didn't have incidents recorded for San Francisco county, a quick search did not reveal any events in the area. This is an example of when data scrapping might be more helpful to be sure we didn't miss anything."
   ],
   "cell_type": "markdown",
   "metadata": {}
  },
  {
   "cell_type": "code",
   "execution_count": null,
   "metadata": {},
   "outputs": [],
   "source": []
  }
 ]
}