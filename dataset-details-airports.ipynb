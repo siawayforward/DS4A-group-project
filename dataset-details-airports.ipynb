{
 "metadata": {
  "language_info": {
   "codemirror_mode": {
    "name": "ipython",
    "version": 3
   },
   "file_extension": ".py",
   "mimetype": "text/x-python",
   "name": "python",
   "nbconvert_exporter": "python",
   "pygments_lexer": "ipython3",
   "version": "3.7.7-final"
  },
  "orig_nbformat": 2,
  "kernelspec": {
   "name": "python3",
   "display_name": "Python 3"
  }
 },
 "nbformat": 4,
 "nbformat_minor": 2,
 "cells": [
  {
   "source": [
    "# Team 88: Project Dataset Details\n",
    "## Airport Traffic Data"
   ],
   "cell_type": "markdown",
   "metadata": {}
  },
  {
   "cell_type": "code",
   "execution_count": 2,
   "metadata": {},
   "outputs": [],
   "source": [
    "#modules\n",
    "import pandas as pd\n",
    "import numpy as np \n",
    "import seaborn as sns\n",
    "import matplotlib.pyplot as plt \n",
    "%matplotlib inline"
   ]
  },
  {
   "source": [
    "### [Airport and Airline Data](https://www.transtats.bts.gov/tables.asp?db_id=125&DB_Name=Airline%20Origin%20and%20Destination%20Survey%20(DB1B))\n",
    "The Bureau of Transportation Statistics provides data on a 10% sample of flights and airline tickets going back to 1993 and recorded quarterly. The data can be filtered by destination airport and date. Bay Area destination airports of interest to us are San Francisco International Airport and Oakland International Airport. \n",
    "\n",
    "### Data Acquisition\n",
    "With this data, the extraction process is a bit more manually involved as we need to download the files for each year and each quarter separately before combining them and making sure all the variables track before starting the analysis and exploration. There are two tables we need to explore in order to get all our variables of interest. These are `DB1BMarket` and `DB1BTicket`, and can be found [here](https://www.transtats.bts.gov/tables.asp?db_id=125&DB_Name=Airline%20Origin%20and%20Destination%20Survey%20%28DB1B%29). Part of our decision making will also include deciding how many years to explore - especially as we hope to be looking at the effects of wildfires on mobility and travel in the last decade. As this is only 10% of the actual traffic, we are hoping the sample is representative enough of trends.\n",
    "\n",
    "Some relevant variables for us include for each of the tables includes:\n",
    "\n",
    "***DB1BMarket***\n",
    "- ItinID (int): a unique itinerary identifier which will help us connect the two tables together\n",
    "- Orig and Dest (string): three letter airport codes for the origin/destination airport\n",
    "- OriginAirportID(int) and DestAirportID (int): a unique identifier for the origin/destination airport\n",
    "- Year and Quarter (string and int)\n",
    "- Passengers (int): number of passengers\n",
    "\n",
    "***DB1BTicket***\n",
    "- ItinID (int): a unique itinerary identifier which will help us connect the two tables together\n",
    "- RoundTrip (int): a round trip indicator (1=Yes, 0=No)\n",
    "- ItinFare and FarePerMile (float): fares for the entire itinerary and per mile flown, respectively\n",
    "\n",
    "### Dataset Structure and Features\n",
    "To see more of the dataset, we are using a sample of the downloads for `2019 - Q1` for both `DB1BMarket` and `DB1BTicket`to see what variables look like and how we would think of using them for the purposes of this project."
   ],
   "cell_type": "markdown",
   "metadata": {}
  },
  {
   "cell_type": "code",
   "execution_count": 5,
   "metadata": {},
   "outputs": [],
   "source": [
    "df_market = pd.read_csv('data/920348143_T_DB1B_MARKET.csv')\n",
    "df_ticket = pd.read_csv('data/920348143_T_DB1B_TICKET.csv')"
   ]
  },
  {
   "cell_type": "code",
   "execution_count": 6,
   "metadata": {},
   "outputs": [
    {
     "output_type": "stream",
     "name": "stdout",
     "text": [
      "The airport market data has 7141323 rows and 7 columns\nThe airport ticket data has 4390179 rows and 7 columns\n"
     ]
    }
   ],
   "source": [
    "#size of the data\n",
    "for table, name in zip([df_market.shape, df_ticket.shape], ['market', 'ticket']):\n",
    "    print('The airport', name, 'data has {} rows and {} columns'.format(table[0], table[1]))"
   ]
  },
  {
   "cell_type": "code",
   "execution_count": 7,
   "metadata": {},
   "outputs": [
    {
     "output_type": "execute_result",
     "data": {
      "text/plain": [
       "   ITIN_ID  ORIGIN_AIRPORT_ID ORIGIN  DEST_AIRPORT_ID DEST  PASSENGERS  \\\n",
       "0  2019310              10135    ABE            10397  ATL         1.0   \n",
       "1  2019311              10135    ABE            10397  ATL         1.0   \n",
       "\n",
       "   Unnamed: 6  \n",
       "0         NaN  \n",
       "1         NaN  "
      ],
      "text/html": "<div>\n<style scoped>\n    .dataframe tbody tr th:only-of-type {\n        vertical-align: middle;\n    }\n\n    .dataframe tbody tr th {\n        vertical-align: top;\n    }\n\n    .dataframe thead th {\n        text-align: right;\n    }\n</style>\n<table border=\"1\" class=\"dataframe\">\n  <thead>\n    <tr style=\"text-align: right;\">\n      <th></th>\n      <th>ITIN_ID</th>\n      <th>ORIGIN_AIRPORT_ID</th>\n      <th>ORIGIN</th>\n      <th>DEST_AIRPORT_ID</th>\n      <th>DEST</th>\n      <th>PASSENGERS</th>\n      <th>Unnamed: 6</th>\n    </tr>\n  </thead>\n  <tbody>\n    <tr>\n      <th>0</th>\n      <td>2019310</td>\n      <td>10135</td>\n      <td>ABE</td>\n      <td>10397</td>\n      <td>ATL</td>\n      <td>1.0</td>\n      <td>NaN</td>\n    </tr>\n    <tr>\n      <th>1</th>\n      <td>2019311</td>\n      <td>10135</td>\n      <td>ABE</td>\n      <td>10397</td>\n      <td>ATL</td>\n      <td>1.0</td>\n      <td>NaN</td>\n    </tr>\n  </tbody>\n</table>\n</div>"
     },
     "metadata": {},
     "execution_count": 7
    }
   ],
   "source": [
    "#market view\n",
    "df_market.head(2)"
   ]
  },
  {
   "cell_type": "code",
   "execution_count": 11,
   "metadata": {},
   "outputs": [
    {
     "output_type": "stream",
     "name": "stdout",
     "text": [
      "<class 'pandas.core.frame.DataFrame'>\nRangeIndex: 7141323 entries, 0 to 7141322\nData columns (total 7 columns):\n #   Column             Dtype  \n---  ------             -----  \n 0   ITIN_ID            int64  \n 1   ORIGIN_AIRPORT_ID  int64  \n 2   ORIGIN             object \n 3   DEST_AIRPORT_ID    int64  \n 4   DEST               object \n 5   PASSENGERS         float64\n 6   Unnamed: 6         float64\ndtypes: float64(2), int64(3), object(2)\nmemory usage: 381.4+ MB\n"
     ]
    }
   ],
   "source": [
    "df_market.info()"
   ]
  },
  {
   "cell_type": "code",
   "execution_count": 8,
   "metadata": {},
   "outputs": [
    {
     "output_type": "execute_result",
     "data": {
      "text/plain": [
       "   ITIN_ID  YEAR  QUARTER  ROUNDTRIP  ITIN_YIELD  ITIN_FARE  Unnamed: 6\n",
       "0  2019310  2019        3        0.0      0.0000        0.0         NaN\n",
       "1  2019311  2019        3        0.0      0.0072        5.0         NaN"
      ],
      "text/html": "<div>\n<style scoped>\n    .dataframe tbody tr th:only-of-type {\n        vertical-align: middle;\n    }\n\n    .dataframe tbody tr th {\n        vertical-align: top;\n    }\n\n    .dataframe thead th {\n        text-align: right;\n    }\n</style>\n<table border=\"1\" class=\"dataframe\">\n  <thead>\n    <tr style=\"text-align: right;\">\n      <th></th>\n      <th>ITIN_ID</th>\n      <th>YEAR</th>\n      <th>QUARTER</th>\n      <th>ROUNDTRIP</th>\n      <th>ITIN_YIELD</th>\n      <th>ITIN_FARE</th>\n      <th>Unnamed: 6</th>\n    </tr>\n  </thead>\n  <tbody>\n    <tr>\n      <th>0</th>\n      <td>2019310</td>\n      <td>2019</td>\n      <td>3</td>\n      <td>0.0</td>\n      <td>0.0000</td>\n      <td>0.0</td>\n      <td>NaN</td>\n    </tr>\n    <tr>\n      <th>1</th>\n      <td>2019311</td>\n      <td>2019</td>\n      <td>3</td>\n      <td>0.0</td>\n      <td>0.0072</td>\n      <td>5.0</td>\n      <td>NaN</td>\n    </tr>\n  </tbody>\n</table>\n</div>"
     },
     "metadata": {},
     "execution_count": 8
    }
   ],
   "source": [
    "#ticket view\n",
    "df_ticket.head(2)"
   ]
  },
  {
   "cell_type": "code",
   "execution_count": 12,
   "metadata": {},
   "outputs": [
    {
     "output_type": "stream",
     "name": "stdout",
     "text": [
      "<class 'pandas.core.frame.DataFrame'>\nRangeIndex: 4390179 entries, 0 to 4390178\nData columns (total 7 columns):\n #   Column      Dtype  \n---  ------      -----  \n 0   ITIN_ID     int64  \n 1   YEAR        int64  \n 2   QUARTER     int64  \n 3   ROUNDTRIP   float64\n 4   ITIN_YIELD  float64\n 5   ITIN_FARE   float64\n 6   Unnamed: 6  float64\ndtypes: float64(4), int64(3)\nmemory usage: 234.5 MB\n"
     ]
    }
   ],
   "source": [
    "df_ticket.info()"
   ]
  },
  {
   "source": [
    "For each table, we have picked up an empty column that has no meaning so we can drop it for both to save computational time while processing the dataframes."
   ],
   "cell_type": "markdown",
   "metadata": {}
  },
  {
   "cell_type": "code",
   "execution_count": null,
   "metadata": {},
   "outputs": [],
   "source": [
    "#del df_market['Unnamed: 6'], df_ticket['Unnamed: 6']"
   ]
  },
  {
   "cell_type": "code",
   "execution_count": 10,
   "metadata": {},
   "outputs": [
    {
     "output_type": "execute_result",
     "data": {
      "text/plain": [
       "201935934420    10\n",
       "201931763496    10\n",
       "201933115014     8\n",
       "201938036        8\n",
       "201933154796     8\n",
       "                ..\n",
       "20193852642      1\n",
       "201932991688     1\n",
       "201932995786     1\n",
       "20193762526      1\n",
       "201934813207     1\n",
       "Name: ITIN_ID, Length: 4390179, dtype: int64"
      ]
     },
     "metadata": {},
     "execution_count": 10
    }
   ],
   "source": [
    "#checking if itinerary ID is unique\n",
    "df_market['ITIN_ID'].value_counts()"
   ]
  },
  {
   "source": [
    "From the above market table data, we see that the count of unique values is the same as the total rows in the ticket table data. This confirms that the `INIT_ID` field is one we can use to connect the two tables."
   ],
   "cell_type": "markdown",
   "metadata": {}
  },
  {
   "source": [
    "### Supplemental Information\n",
    "We can use other data from a quick search to see if there are other airports and cities we should be looking at in the Bay Area. Additionally, we can get a list of all cities listed here and find the corresponding county and use that to connect with other datasets e.g. air quality data and fire incident data. This would help us attach other datasets to this one. For linking data we anticipate two variables:\n",
    "- Time (quarter and year)\n",
    "- Location (city, county, and state)"
   ],
   "cell_type": "markdown",
   "metadata": {}
  },
  {
   "cell_type": "code",
   "execution_count": null,
   "metadata": {},
   "outputs": [],
   "source": []
  }
 ]
}