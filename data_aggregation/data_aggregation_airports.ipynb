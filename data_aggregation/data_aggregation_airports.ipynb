{
  "nbformat": 4,
  "nbformat_minor": 0,
  "metadata": {
    "language_info": {
      "codemirror_mode": {
        "name": "ipython",
        "version": 3
      },
      "file_extension": ".py",
      "mimetype": "text/x-python",
      "name": "python",
      "nbconvert_exporter": "python",
      "pygments_lexer": "ipython3",
      "version": "3.7.7-final"
    },
    "orig_nbformat": 2,
    "kernelspec": {
      "name": "python38332bit51e9155267c74bdea6c1df221110bfcd",
      "display_name": "Python 3.8.3 32-bit",
      "language": "python"
    },
    "colab": {
      "name": "data-aggregation-airports.ipynb",
      "provenance": [],
      "collapsed_sections": []
    }
  },
  "cells": [
    {
      "cell_type": "markdown",
      "metadata": {
        "id": "UlT6s661KY-u"
      },
      "source": [
        "# Team 88: Aggregation\n",
        "## Airport Traffic Data\n",
        "\n",
        "From the initial review of this dataset, we identified variables of interest, useful supplementary variables from other datasets, and any needed cleaning was completed. Data from the source is only available through June 2020 though our covered timeframe will end on Dec 19 2019 for datasets (if available). Now with the variables and data set, we can aggregate by our team agreed upon measures:\n",
        "- Time (date)\n",
        "- Location (Longitude and Latitude, zip codes where available)\n",
        "\n",
        "For this dataset, we have to find a way to extract dates because they are not readily provided, and we have the origin airport lat/lon values. We don't need to include the destination ones because airport arrivals are going to be more generally analyzed in the bay area. We can't know for sure whether people are transiting or staying in the bay area, but can at least see where they are flying in from to inform final visuals."
      ]
    },
    {
      "cell_type": "code",
      "metadata": {
        "colab": {
          "base_uri": "https://localhost:8080/"
        },
        "id": "w10DaWqbKdXj",
        "outputId": "ad6b26b5-9eaf-44df-f467-567d7f3a84e5"
      },
      "source": [
        "from google.colab import drive\n",
        "drive.mount('/content/drive')"
      ],
      "execution_count": null,
      "outputs": [
        {
          "output_type": "stream",
          "text": [
            "Drive already mounted at /content/drive; to attempt to forcibly remount, call drive.mount(\"/content/drive\", force_remount=True).\n"
          ],
          "name": "stdout"
        }
      ]
    },
    {
      "cell_type": "code",
      "metadata": {
        "id": "fpHoP4NGKY_I",
        "colab": {
          "base_uri": "https://localhost:8080/"
        },
        "outputId": "7b3cc5a2-f3fb-4f9c-fc2a-1bdad17cc27b"
      },
      "source": [
        "#modules\n",
        "import pandas as pd\n",
        "import numpy as np\n",
        "\n",
        "!pip install datetime-quarter  #uncomment and run if needed\n",
        "from datequarter import DateQuarter"
      ],
      "execution_count": null,
      "outputs": [
        {
          "output_type": "stream",
          "text": [
            "Requirement already satisfied: datetime-quarter in /usr/local/lib/python3.6/dist-packages (1.0.3)\n"
          ],
          "name": "stdout"
        }
      ]
    },
    {
      "cell_type": "markdown",
      "metadata": {
        "id": "S2o7W0QEKY_g"
      },
      "source": [
        "Reminder of the fields in the datasets. All of these descriptions come from the data source.\n",
        "- `ITIN_ID` = Itinerary ID\n",
        "- `ORIGIN_AIRPORT_ID` = Origin Airport, Airport ID. An identification number assigned by US DOT to identify a unique airport. Use this field for airport analysis across a range of years because an airport can change its airport code and airport codes can be reused.\n",
        "- `ORIGIN` = Origin Airport Code\n",
        "- `DEST_AIRPORT_ID` = Destination Airport, Airport ID. An identification number assigned by US DOT to identify a unique airport. Use this field for airport analysis across a range of years because an airport can change its airport code and airport codes can be reused.\n",
        "- `DEST` = Destination Airport Code\n",
        "- `PASSENGERS` = Number of Passengers for the itinerary\n",
        "- `YEAR` = Year\n",
        "- `QUARTER` = Quarter (1-4)\n",
        "- `ORIGIN_COUNTRY` = Origin Airport, Country Code\n",
        "- `ROUNDTRIP` = Round Trip Indicator (1=Yes)\n",
        "- `ITIN_FARE` = Itinerary Fare Per Person\n",
        "- `ORIGIN_CITY_NAME` = collected as `AirportCityName`: Airport City Name with either U.S. State or Country\n",
        "- `DEST_CITY_NAME` = collected as `AirportCityName`: Airport City Name with either U.S. State or Country"
      ]
    },
    {
      "cell_type": "code",
      "metadata": {
        "colab": {
          "base_uri": "https://localhost:8080/",
          "height": 145
        },
        "id": "EcRxfnY8KY_L",
        "outputId": "f6912ee6-9f42-4700-ac86-6f19aab01192"
      },
      "source": [
        "#import data\n",
        "path = '/content/drive/MyDrive/2020-Move/Learning/DS4A-correlation-one/DS4A Project/repo/'\n",
        "all_travel = pd.read_csv(path+'data/all_travel.csv').drop(['Unnamed: 0', 'ORIGIN', 'DEST'], axis=1)\n",
        "print(all_travel.shape,'\\n')\n",
        "all_travel.head(2)"
      ],
      "execution_count": null,
      "outputs": [
        {
          "output_type": "stream",
          "text": [
            "(4288742, 9) \n",
            "\n"
          ],
          "name": "stdout"
        },
        {
          "output_type": "execute_result",
          "data": {
            "text/html": [
              "<div>\n",
              "<style scoped>\n",
              "    .dataframe tbody tr th:only-of-type {\n",
              "        vertical-align: middle;\n",
              "    }\n",
              "\n",
              "    .dataframe tbody tr th {\n",
              "        vertical-align: top;\n",
              "    }\n",
              "\n",
              "    .dataframe thead th {\n",
              "        text-align: right;\n",
              "    }\n",
              "</style>\n",
              "<table border=\"1\" class=\"dataframe\">\n",
              "  <thead>\n",
              "    <tr style=\"text-align: right;\">\n",
              "      <th></th>\n",
              "      <th>ITIN_ID</th>\n",
              "      <th>ORIGIN_AIRPORT_ID</th>\n",
              "      <th>DEST_AIRPORT_ID</th>\n",
              "      <th>PASSENGERS</th>\n",
              "      <th>YEAR</th>\n",
              "      <th>QUARTER</th>\n",
              "      <th>ORIGIN_COUNTRY</th>\n",
              "      <th>ROUNDTRIP</th>\n",
              "      <th>ITIN_FARE</th>\n",
              "    </tr>\n",
              "  </thead>\n",
              "  <tbody>\n",
              "    <tr>\n",
              "      <th>0</th>\n",
              "      <td>20111156458</td>\n",
              "      <td>11278</td>\n",
              "      <td>14771</td>\n",
              "      <td>1.0</td>\n",
              "      <td>2011</td>\n",
              "      <td>1</td>\n",
              "      <td>US</td>\n",
              "      <td>0.0</td>\n",
              "      <td>2112.0</td>\n",
              "    </tr>\n",
              "    <tr>\n",
              "      <th>1</th>\n",
              "      <td>20111156497</td>\n",
              "      <td>11618</td>\n",
              "      <td>14831</td>\n",
              "      <td>1.0</td>\n",
              "      <td>2011</td>\n",
              "      <td>1</td>\n",
              "      <td>US</td>\n",
              "      <td>0.0</td>\n",
              "      <td>394.0</td>\n",
              "    </tr>\n",
              "  </tbody>\n",
              "</table>\n",
              "</div>"
            ],
            "text/plain": [
              "       ITIN_ID  ORIGIN_AIRPORT_ID  ...  ROUNDTRIP  ITIN_FARE\n",
              "0  20111156458              11278  ...        0.0     2112.0\n",
              "1  20111156497              11618  ...        0.0      394.0\n",
              "\n",
              "[2 rows x 9 columns]"
            ]
          },
          "metadata": {
            "tags": []
          },
          "execution_count": 29
        }
      ]
    },
    {
      "cell_type": "markdown",
      "metadata": {
        "id": "Kk_MJX0LD2X3"
      },
      "source": [
        "By far, most people fly in from LAX (Los Angeles International Airport) followed by a few west coast airports and some major hubs including New York (JFK) and Boston (BOS). Given that airport codes are not common knowledge, a supplemental file with the city names for each airport code is included and used to update the plot above for top 25 origin airports for other uses going forward.\r\n",
        "\r\n",
        "The [Market Coordinate](https://www.transtats.bts.gov/Tables.asp?DB_ID=595&DB_Name=Aviation%20Support%20Tables) table download (`341379231_T_MASTER_CORD.csv`) that is also provided by the Bureau of Transportation Statistics as with [all our data](https://www.transtats.bts.gov/Tables.asp?DB_ID=125&DB_Name=Airline%20Origin%20and%20Destination%20Survey%20%28DB1B%29&DB_Short_Name=Origin%20and%20Destination%20Survey), includes information about airport codes, IDs, and location, along with any historical identifying information about the airports that appear on the itineraries downloaded."
      ]
    },
    {
      "cell_type": "code",
      "metadata": {
        "colab": {
          "base_uri": "https://localhost:8080/"
        },
        "id": "MebR7z-CDorz",
        "outputId": "f78a3011-8161-42aa-dae0-df6d623377ac"
      },
      "source": [
        "#get city/location data for merging with\r\n",
        "airport_data = pd.read_csv(path+'data/341379231_T_MASTER_CORD.csv')\r\n",
        "airport_data.shape"
      ],
      "execution_count": null,
      "outputs": [
        {
          "output_type": "execute_result",
          "data": {
            "text/plain": [
              "(18102, 14)"
            ]
          },
          "metadata": {
            "tags": []
          },
          "execution_count": 30
        }
      ]
    },
    {
      "cell_type": "code",
      "metadata": {
        "colab": {
          "base_uri": "https://localhost:8080/",
          "height": 148
        },
        "id": "TMv2RjZdD0CR",
        "outputId": "1edb9f23-a827-4e57-8b09-bdb289b55528"
      },
      "source": [
        "airport_data.head(2)"
      ],
      "execution_count": null,
      "outputs": [
        {
          "output_type": "execute_result",
          "data": {
            "text/html": [
              "<div>\n",
              "<style scoped>\n",
              "    .dataframe tbody tr th:only-of-type {\n",
              "        vertical-align: middle;\n",
              "    }\n",
              "\n",
              "    .dataframe tbody tr th {\n",
              "        vertical-align: top;\n",
              "    }\n",
              "\n",
              "    .dataframe thead th {\n",
              "        text-align: right;\n",
              "    }\n",
              "</style>\n",
              "<table border=\"1\" class=\"dataframe\">\n",
              "  <thead>\n",
              "    <tr style=\"text-align: right;\">\n",
              "      <th></th>\n",
              "      <th>AIRPORT_ID</th>\n",
              "      <th>AIRPORT</th>\n",
              "      <th>DISPLAY_AIRPORT_NAME</th>\n",
              "      <th>DISPLAY_AIRPORT_CITY_NAME_FULL</th>\n",
              "      <th>AIRPORT_COUNTRY_NAME</th>\n",
              "      <th>AIRPORT_STATE_NAME</th>\n",
              "      <th>AIRPORT_STATE_FIPS</th>\n",
              "      <th>DISPLAY_CITY_MARKET_NAME_FULL</th>\n",
              "      <th>LAT_DEGREES</th>\n",
              "      <th>LATITUDE</th>\n",
              "      <th>LON_DEGREES</th>\n",
              "      <th>LONGITUDE</th>\n",
              "      <th>AIRPORT_IS_LATEST</th>\n",
              "      <th>Unnamed: 13</th>\n",
              "    </tr>\n",
              "  </thead>\n",
              "  <tbody>\n",
              "    <tr>\n",
              "      <th>0</th>\n",
              "      <td>10001</td>\n",
              "      <td>01A</td>\n",
              "      <td>Afognak Lake Airport</td>\n",
              "      <td>Afognak Lake, AK</td>\n",
              "      <td>United States</td>\n",
              "      <td>Alaska</td>\n",
              "      <td>2.0</td>\n",
              "      <td>Afognak Lake, AK</td>\n",
              "      <td>58.0</td>\n",
              "      <td>58.109444</td>\n",
              "      <td>152.0</td>\n",
              "      <td>-152.906667</td>\n",
              "      <td>1</td>\n",
              "      <td>NaN</td>\n",
              "    </tr>\n",
              "    <tr>\n",
              "      <th>1</th>\n",
              "      <td>10003</td>\n",
              "      <td>03A</td>\n",
              "      <td>Bear Creek Mining Strip</td>\n",
              "      <td>Granite Mountain, AK</td>\n",
              "      <td>United States</td>\n",
              "      <td>Alaska</td>\n",
              "      <td>2.0</td>\n",
              "      <td>Granite Mountain, AK</td>\n",
              "      <td>65.0</td>\n",
              "      <td>65.548056</td>\n",
              "      <td>161.0</td>\n",
              "      <td>-161.071667</td>\n",
              "      <td>1</td>\n",
              "      <td>NaN</td>\n",
              "    </tr>\n",
              "  </tbody>\n",
              "</table>\n",
              "</div>"
            ],
            "text/plain": [
              "   AIRPORT_ID AIRPORT  ... AIRPORT_IS_LATEST Unnamed: 13\n",
              "0       10001     01A  ...                 1         NaN\n",
              "1       10003     03A  ...                 1         NaN\n",
              "\n",
              "[2 rows x 14 columns]"
            ]
          },
          "metadata": {
            "tags": []
          },
          "execution_count": 31
        }
      ]
    },
    {
      "cell_type": "markdown",
      "metadata": {
        "id": "KHHeyt7EELx4"
      },
      "source": [
        "We established during exploration that the parameter that will be used to connect these two datasets is the airport ID = a five digit value that is unique to the airport as the three alphanumeric digit codes tend to be reassigned or retired."
      ]
    },
    {
      "cell_type": "code",
      "metadata": {
        "colab": {
          "base_uri": "https://localhost:8080/",
          "height": 111
        },
        "id": "GKdMyeFqEM_Q",
        "outputId": "5a6d38b8-f347-4832-bb3a-151c11225c32"
      },
      "source": [
        "#create temporary columns for merging// there are only four destinations, only adding origin lat/lon\r\n",
        "airport_data['ORIGIN_AIRPORT_ID'] = airport_data['AIRPORT_ID']\r\n",
        "airport_data['ORIGIN_CITY_NAME'] = airport_data['DISPLAY_AIRPORT_CITY_NAME_FULL']\r\n",
        "airport_data['DEST_AIRPORT_ID'] = airport_data['AIRPORT_ID']\r\n",
        "airport_data['DEST_CITY_NAME'] = airport_data['DISPLAY_AIRPORT_CITY_NAME_FULL']\r\n",
        "airport_data['ORIGIN_LONGITUDE'] = airport_data['LONGITUDE']\r\n",
        "airport_data['ORIGIN_LATITUDE'] = airport_data['LATITUDE']\r\n",
        "airport_data.iloc[:, -8:].head(2)"
      ],
      "execution_count": null,
      "outputs": [
        {
          "output_type": "execute_result",
          "data": {
            "text/html": [
              "<div>\n",
              "<style scoped>\n",
              "    .dataframe tbody tr th:only-of-type {\n",
              "        vertical-align: middle;\n",
              "    }\n",
              "\n",
              "    .dataframe tbody tr th {\n",
              "        vertical-align: top;\n",
              "    }\n",
              "\n",
              "    .dataframe thead th {\n",
              "        text-align: right;\n",
              "    }\n",
              "</style>\n",
              "<table border=\"1\" class=\"dataframe\">\n",
              "  <thead>\n",
              "    <tr style=\"text-align: right;\">\n",
              "      <th></th>\n",
              "      <th>AIRPORT_IS_LATEST</th>\n",
              "      <th>Unnamed: 13</th>\n",
              "      <th>ORIGIN_AIRPORT_ID</th>\n",
              "      <th>ORIGIN_CITY_NAME</th>\n",
              "      <th>DEST_AIRPORT_ID</th>\n",
              "      <th>DEST_CITY_NAME</th>\n",
              "      <th>ORIGIN_LONGITUDE</th>\n",
              "      <th>ORIGIN_LATITUDE</th>\n",
              "    </tr>\n",
              "  </thead>\n",
              "  <tbody>\n",
              "    <tr>\n",
              "      <th>0</th>\n",
              "      <td>1</td>\n",
              "      <td>NaN</td>\n",
              "      <td>10001</td>\n",
              "      <td>Afognak Lake, AK</td>\n",
              "      <td>10001</td>\n",
              "      <td>Afognak Lake, AK</td>\n",
              "      <td>-152.906667</td>\n",
              "      <td>58.109444</td>\n",
              "    </tr>\n",
              "    <tr>\n",
              "      <th>1</th>\n",
              "      <td>1</td>\n",
              "      <td>NaN</td>\n",
              "      <td>10003</td>\n",
              "      <td>Granite Mountain, AK</td>\n",
              "      <td>10003</td>\n",
              "      <td>Granite Mountain, AK</td>\n",
              "      <td>-161.071667</td>\n",
              "      <td>65.548056</td>\n",
              "    </tr>\n",
              "  </tbody>\n",
              "</table>\n",
              "</div>"
            ],
            "text/plain": [
              "   AIRPORT_IS_LATEST  Unnamed: 13  ...  ORIGIN_LONGITUDE ORIGIN_LATITUDE\n",
              "0                  1          NaN  ...       -152.906667       58.109444\n",
              "1                  1          NaN  ...       -161.071667       65.548056\n",
              "\n",
              "[2 rows x 8 columns]"
            ]
          },
          "metadata": {
            "tags": []
          },
          "execution_count": 32
        }
      ]
    },
    {
      "cell_type": "code",
      "metadata": {
        "colab": {
          "base_uri": "https://localhost:8080/",
          "height": 148
        },
        "id": "jKSoRjgRE3Ac",
        "outputId": "dc5dfc98-c02f-4f00-8e0a-855441a9e2be"
      },
      "source": [
        "#dropping unused/useless columns\r\n",
        "del airport_data['Unnamed: 13']\r\n",
        "airport_data.head(2)"
      ],
      "execution_count": null,
      "outputs": [
        {
          "output_type": "execute_result",
          "data": {
            "text/html": [
              "<div>\n",
              "<style scoped>\n",
              "    .dataframe tbody tr th:only-of-type {\n",
              "        vertical-align: middle;\n",
              "    }\n",
              "\n",
              "    .dataframe tbody tr th {\n",
              "        vertical-align: top;\n",
              "    }\n",
              "\n",
              "    .dataframe thead th {\n",
              "        text-align: right;\n",
              "    }\n",
              "</style>\n",
              "<table border=\"1\" class=\"dataframe\">\n",
              "  <thead>\n",
              "    <tr style=\"text-align: right;\">\n",
              "      <th></th>\n",
              "      <th>AIRPORT_ID</th>\n",
              "      <th>AIRPORT</th>\n",
              "      <th>DISPLAY_AIRPORT_NAME</th>\n",
              "      <th>DISPLAY_AIRPORT_CITY_NAME_FULL</th>\n",
              "      <th>AIRPORT_COUNTRY_NAME</th>\n",
              "      <th>AIRPORT_STATE_NAME</th>\n",
              "      <th>AIRPORT_STATE_FIPS</th>\n",
              "      <th>DISPLAY_CITY_MARKET_NAME_FULL</th>\n",
              "      <th>LAT_DEGREES</th>\n",
              "      <th>LATITUDE</th>\n",
              "      <th>LON_DEGREES</th>\n",
              "      <th>LONGITUDE</th>\n",
              "      <th>AIRPORT_IS_LATEST</th>\n",
              "      <th>ORIGIN_AIRPORT_ID</th>\n",
              "      <th>ORIGIN_CITY_NAME</th>\n",
              "      <th>DEST_AIRPORT_ID</th>\n",
              "      <th>DEST_CITY_NAME</th>\n",
              "      <th>ORIGIN_LONGITUDE</th>\n",
              "      <th>ORIGIN_LATITUDE</th>\n",
              "    </tr>\n",
              "  </thead>\n",
              "  <tbody>\n",
              "    <tr>\n",
              "      <th>0</th>\n",
              "      <td>10001</td>\n",
              "      <td>01A</td>\n",
              "      <td>Afognak Lake Airport</td>\n",
              "      <td>Afognak Lake, AK</td>\n",
              "      <td>United States</td>\n",
              "      <td>Alaska</td>\n",
              "      <td>2.0</td>\n",
              "      <td>Afognak Lake, AK</td>\n",
              "      <td>58.0</td>\n",
              "      <td>58.109444</td>\n",
              "      <td>152.0</td>\n",
              "      <td>-152.906667</td>\n",
              "      <td>1</td>\n",
              "      <td>10001</td>\n",
              "      <td>Afognak Lake, AK</td>\n",
              "      <td>10001</td>\n",
              "      <td>Afognak Lake, AK</td>\n",
              "      <td>-152.906667</td>\n",
              "      <td>58.109444</td>\n",
              "    </tr>\n",
              "    <tr>\n",
              "      <th>1</th>\n",
              "      <td>10003</td>\n",
              "      <td>03A</td>\n",
              "      <td>Bear Creek Mining Strip</td>\n",
              "      <td>Granite Mountain, AK</td>\n",
              "      <td>United States</td>\n",
              "      <td>Alaska</td>\n",
              "      <td>2.0</td>\n",
              "      <td>Granite Mountain, AK</td>\n",
              "      <td>65.0</td>\n",
              "      <td>65.548056</td>\n",
              "      <td>161.0</td>\n",
              "      <td>-161.071667</td>\n",
              "      <td>1</td>\n",
              "      <td>10003</td>\n",
              "      <td>Granite Mountain, AK</td>\n",
              "      <td>10003</td>\n",
              "      <td>Granite Mountain, AK</td>\n",
              "      <td>-161.071667</td>\n",
              "      <td>65.548056</td>\n",
              "    </tr>\n",
              "  </tbody>\n",
              "</table>\n",
              "</div>"
            ],
            "text/plain": [
              "   AIRPORT_ID AIRPORT  ... ORIGIN_LONGITUDE ORIGIN_LATITUDE\n",
              "0       10001     01A  ...      -152.906667       58.109444\n",
              "1       10003     03A  ...      -161.071667       65.548056\n",
              "\n",
              "[2 rows x 19 columns]"
            ]
          },
          "metadata": {
            "tags": []
          },
          "execution_count": 33
        }
      ]
    },
    {
      "cell_type": "code",
      "metadata": {
        "id": "U1KvS5KbE3WX",
        "colab": {
          "base_uri": "https://localhost:8080/",
          "height": 173
        },
        "outputId": "7cef36e2-8f3b-48a8-856f-7b9399f676f6"
      },
      "source": [
        "#saving destinations (there's only four) for later\r\n",
        "destinations = all_travel['DEST_AIRPORT_ID'].unique()\r\n",
        "dest_cities = airport_data[airport_data['AIRPORT_ID'].isin(destinations)][['AIRPORT_ID', 'DISPLAY_AIRPORT_CITY_NAME_FULL']].drop_duplicates()\r\n",
        "dest_cities"
      ],
      "execution_count": null,
      "outputs": [
        {
          "output_type": "execute_result",
          "data": {
            "text/html": [
              "<div>\n",
              "<style scoped>\n",
              "    .dataframe tbody tr th:only-of-type {\n",
              "        vertical-align: middle;\n",
              "    }\n",
              "\n",
              "    .dataframe tbody tr th {\n",
              "        vertical-align: top;\n",
              "    }\n",
              "\n",
              "    .dataframe thead th {\n",
              "        text-align: right;\n",
              "    }\n",
              "</style>\n",
              "<table border=\"1\" class=\"dataframe\">\n",
              "  <thead>\n",
              "    <tr style=\"text-align: right;\">\n",
              "      <th></th>\n",
              "      <th>AIRPORT_ID</th>\n",
              "      <th>DISPLAY_AIRPORT_CITY_NAME_FULL</th>\n",
              "    </tr>\n",
              "  </thead>\n",
              "  <tbody>\n",
              "    <tr>\n",
              "      <th>10596</th>\n",
              "      <td>13796</td>\n",
              "      <td>Oakland, CA</td>\n",
              "    </tr>\n",
              "    <tr>\n",
              "      <th>13121</th>\n",
              "      <td>14771</td>\n",
              "      <td>San Francisco, CA</td>\n",
              "    </tr>\n",
              "    <tr>\n",
              "      <th>13278</th>\n",
              "      <td>14831</td>\n",
              "      <td>San Jose, CA</td>\n",
              "    </tr>\n",
              "    <tr>\n",
              "      <th>13858</th>\n",
              "      <td>15023</td>\n",
              "      <td>Santa Rosa, CA</td>\n",
              "    </tr>\n",
              "  </tbody>\n",
              "</table>\n",
              "</div>"
            ],
            "text/plain": [
              "       AIRPORT_ID DISPLAY_AIRPORT_CITY_NAME_FULL\n",
              "10596       13796                    Oakland, CA\n",
              "13121       14771              San Francisco, CA\n",
              "13278       14831                   San Jose, CA\n",
              "13858       15023                 Santa Rosa, CA"
            ]
          },
          "metadata": {
            "tags": []
          },
          "execution_count": 34
        }
      ]
    },
    {
      "cell_type": "markdown",
      "metadata": {
        "id": "rnRXh3UiKY_O"
      },
      "source": [
        "After filtering the dataset to only include bay area inbound flights and aggregating all periods, we decided to use December 19th as the cutoff for our data periods. There are no identifiable dates from this data, but the `ITIN_ID` field looks like it contains the date so we try to extract that to get this information. Some things to consider:\r\n",
        "- Q1 - Q3: looks like the month is only recorded as a single digit from 1-9 (as opposed to 01-09)\r\n",
        "- Need to check dates as some are recorded as above for the 1st to the 9th of any month"
      ]
    },
    {
      "cell_type": "code",
      "metadata": {
        "id": "oaD7hmrhTN7C"
      },
      "source": [
        "#method to extract portion of ITIN_ID with date and convert to datetime object\r\n",
        "def get_date(itin_id, quarter):\r\n",
        "  date_str = str(itin_id)\r\n",
        "  if quarter in [1, 2, 3]:\r\n",
        "    return date_str[:4] + '-' + date_str[4:5] + '-' + date_str[5:7]\r\n",
        "  else:\r\n",
        "    return date_str[:4] + '-' + date_str[4:6] + '-' + date_str[6:8]"
      ],
      "execution_count": null,
      "outputs": []
    },
    {
      "cell_type": "code",
      "metadata": {
        "id": "EUFDV_bRdyH5"
      },
      "source": [
        "#trying this with a small sample\r\n",
        "trial = all_travel[all_travel['QUARTER']==4][['ITIN_ID', 'ORIGIN_AIRPORT_ID', 'DEST_AIRPORT_ID', 'QUARTER']]"
      ],
      "execution_count": null,
      "outputs": []
    },
    {
      "cell_type": "code",
      "metadata": {
        "colab": {
          "base_uri": "https://localhost:8080/",
          "height": 204
        },
        "id": "vqT5mACOe4H6",
        "outputId": "5ad8cedc-898d-4c5d-cdf4-80395b7bb0c2"
      },
      "source": [
        "func = lambda x, y: get_date(x, y)\r\n",
        "trial = trial[:50]\r\n",
        "trial['date'] = trial[['ITIN_ID', 'QUARTER']].apply(lambda x: func(*x), axis=1)\r\n",
        "trial.head()"
      ],
      "execution_count": null,
      "outputs": [
        {
          "output_type": "execute_result",
          "data": {
            "text/html": [
              "<div>\n",
              "<style scoped>\n",
              "    .dataframe tbody tr th:only-of-type {\n",
              "        vertical-align: middle;\n",
              "    }\n",
              "\n",
              "    .dataframe tbody tr th {\n",
              "        vertical-align: top;\n",
              "    }\n",
              "\n",
              "    .dataframe thead th {\n",
              "        text-align: right;\n",
              "    }\n",
              "</style>\n",
              "<table border=\"1\" class=\"dataframe\">\n",
              "  <thead>\n",
              "    <tr style=\"text-align: right;\">\n",
              "      <th></th>\n",
              "      <th>ITIN_ID</th>\n",
              "      <th>ORIGIN_AIRPORT_ID</th>\n",
              "      <th>DEST_AIRPORT_ID</th>\n",
              "      <th>QUARTER</th>\n",
              "      <th>date</th>\n",
              "    </tr>\n",
              "  </thead>\n",
              "  <tbody>\n",
              "    <tr>\n",
              "      <th>3099794</th>\n",
              "      <td>20104210674</td>\n",
              "      <td>12264</td>\n",
              "      <td>14831</td>\n",
              "      <td>4</td>\n",
              "      <td>2010-42-10</td>\n",
              "    </tr>\n",
              "    <tr>\n",
              "      <th>3099795</th>\n",
              "      <td>20104211382</td>\n",
              "      <td>11298</td>\n",
              "      <td>14771</td>\n",
              "      <td>4</td>\n",
              "      <td>2010-42-11</td>\n",
              "    </tr>\n",
              "    <tr>\n",
              "      <th>3099796</th>\n",
              "      <td>20104211410</td>\n",
              "      <td>11298</td>\n",
              "      <td>14831</td>\n",
              "      <td>4</td>\n",
              "      <td>2010-42-11</td>\n",
              "    </tr>\n",
              "    <tr>\n",
              "      <th>3099797</th>\n",
              "      <td>20104318616</td>\n",
              "      <td>10599</td>\n",
              "      <td>14831</td>\n",
              "      <td>4</td>\n",
              "      <td>2010-43-18</td>\n",
              "    </tr>\n",
              "    <tr>\n",
              "      <th>3099798</th>\n",
              "      <td>20104392374</td>\n",
              "      <td>11298</td>\n",
              "      <td>14831</td>\n",
              "      <td>4</td>\n",
              "      <td>2010-43-92</td>\n",
              "    </tr>\n",
              "  </tbody>\n",
              "</table>\n",
              "</div>"
            ],
            "text/plain": [
              "             ITIN_ID  ORIGIN_AIRPORT_ID  DEST_AIRPORT_ID  QUARTER        date\n",
              "3099794  20104210674              12264            14831        4  2010-42-10\n",
              "3099795  20104211382              11298            14771        4  2010-42-11\n",
              "3099796  20104211410              11298            14831        4  2010-42-11\n",
              "3099797  20104318616              10599            14831        4  2010-43-18\n",
              "3099798  20104392374              11298            14831        4  2010-43-92"
            ]
          },
          "metadata": {
            "tags": []
          },
          "execution_count": 37
        }
      ]
    },
    {
      "cell_type": "markdown",
      "metadata": {
        "id": "6avk_nF9tYzS"
      },
      "source": [
        "Looks like the hunch about the date is wrong. \r\n",
        "- The first four digits are the year, \r\n",
        "- the fifth one is the quarter number\r\n",
        "- No idea what the last six or seven digits represent based on the information provided in the source data page."
      ]
    },
    {
      "cell_type": "code",
      "metadata": {
        "colab": {
          "base_uri": "https://localhost:8080/"
        },
        "id": "GW-cSvjLkXR3",
        "outputId": "69e6b2bc-0cbe-4414-e14d-f78d9839470e"
      },
      "source": [
        "#Q1 check (the last digits after year and quarter)\r\n",
        "for quarter in range(1,5):\r\n",
        "  vals = all_travel[all_travel['QUARTER']==quarter]['ITIN_ID'].apply(lambda x: str(x)[5:])\r\n",
        "  print('\\nQ{} \\nunique after first 5 digits (year, quarter)'.format(quarter), len(vals.unique()))\r\n",
        "  print('total line items', len(vals))\r\n",
        "  print('any divisibles in quarter {}?'.format(quarter), len(vals)/len(vals.unique()))"
      ],
      "execution_count": null,
      "outputs": [
        {
          "output_type": "stream",
          "text": [
            "\n",
            "Q1 \n",
            "unique after first 5 digits (year, quarter) 831193\n",
            "total line items 942389\n",
            "any divisibles in quarter 1? 1.133778797463405\n",
            "\n",
            "Q2 \n",
            "unique after first 5 digits (year, quarter) 1015846\n",
            "total line items 1100400\n",
            "any divisibles in quarter 2? 1.0832350572823046\n",
            "\n",
            "Q3 \n",
            "unique after first 5 digits (year, quarter) 957551\n",
            "total line items 1057005\n",
            "any divisibles in quarter 3? 1.1038628751888933\n",
            "\n",
            "Q4 \n",
            "unique after first 5 digits (year, quarter) 1042976\n",
            "total line items 1188948\n",
            "any divisibles in quarter 4? 1.139957199398644\n"
          ],
          "name": "stdout"
        }
      ]
    },
    {
      "cell_type": "code",
      "metadata": {
        "colab": {
          "base_uri": "https://localhost:8080/"
        },
        "id": "X-wHSTxNmr-t",
        "outputId": "1a09ca5b-e2fe-41ac-a700-672cafef1e04"
      },
      "source": [
        "#Q2 itin id length check\r\n",
        "for i in range(1,5):\r\n",
        "  print('Q{}'.format(i), all_travel[all_travel['QUARTER']==i]['ITIN_ID'].apply(lambda x: len(str(x))).unique())"
      ],
      "execution_count": null,
      "outputs": [
        {
          "output_type": "stream",
          "text": [
            "Q1 [11 12]\n",
            "Q2 [11 12 10]\n",
            "Q3 [11 12]\n",
            "Q4 [11 12]\n"
          ],
          "name": "stdout"
        }
      ]
    },
    {
      "cell_type": "markdown",
      "metadata": {
        "id": "gvIQENgb0KZg"
      },
      "source": [
        "For some reason, there are items with length 10. Doesn't matter, still no definition of those other numbers, so there is some investigation to see what these values for each quarter represent.\r\n",
        "\r\n",
        "*Update:* Not a lot of context provided from the source as to what the numbers after year and quarter represent beyond being unique identifiers for that initerary. For now, we aggregate everything by using year and quarter granularity for analysis and visualizations."
      ]
    },
    {
      "cell_type": "code",
      "metadata": {
        "id": "ifCq_SCIwLEu",
        "colab": {
          "base_uri": "https://localhost:8080/",
          "height": 111
        },
        "outputId": "ae108527-cd2d-4e81-c394-d2211b83cb7e"
      },
      "source": [
        "all_travel.head(2)"
      ],
      "execution_count": null,
      "outputs": [
        {
          "output_type": "execute_result",
          "data": {
            "text/html": [
              "<div>\n",
              "<style scoped>\n",
              "    .dataframe tbody tr th:only-of-type {\n",
              "        vertical-align: middle;\n",
              "    }\n",
              "\n",
              "    .dataframe tbody tr th {\n",
              "        vertical-align: top;\n",
              "    }\n",
              "\n",
              "    .dataframe thead th {\n",
              "        text-align: right;\n",
              "    }\n",
              "</style>\n",
              "<table border=\"1\" class=\"dataframe\">\n",
              "  <thead>\n",
              "    <tr style=\"text-align: right;\">\n",
              "      <th></th>\n",
              "      <th>ITIN_ID</th>\n",
              "      <th>ORIGIN_AIRPORT_ID</th>\n",
              "      <th>DEST_AIRPORT_ID</th>\n",
              "      <th>PASSENGERS</th>\n",
              "      <th>YEAR</th>\n",
              "      <th>QUARTER</th>\n",
              "      <th>ORIGIN_COUNTRY</th>\n",
              "      <th>ROUNDTRIP</th>\n",
              "      <th>ITIN_FARE</th>\n",
              "    </tr>\n",
              "  </thead>\n",
              "  <tbody>\n",
              "    <tr>\n",
              "      <th>0</th>\n",
              "      <td>20111156458</td>\n",
              "      <td>11278</td>\n",
              "      <td>14771</td>\n",
              "      <td>1.0</td>\n",
              "      <td>2011</td>\n",
              "      <td>1</td>\n",
              "      <td>US</td>\n",
              "      <td>0.0</td>\n",
              "      <td>2112.0</td>\n",
              "    </tr>\n",
              "    <tr>\n",
              "      <th>1</th>\n",
              "      <td>20111156497</td>\n",
              "      <td>11618</td>\n",
              "      <td>14831</td>\n",
              "      <td>1.0</td>\n",
              "      <td>2011</td>\n",
              "      <td>1</td>\n",
              "      <td>US</td>\n",
              "      <td>0.0</td>\n",
              "      <td>394.0</td>\n",
              "    </tr>\n",
              "  </tbody>\n",
              "</table>\n",
              "</div>"
            ],
            "text/plain": [
              "       ITIN_ID  ORIGIN_AIRPORT_ID  ...  ROUNDTRIP  ITIN_FARE\n",
              "0  20111156458              11278  ...        0.0     2112.0\n",
              "1  20111156497              11618  ...        0.0      394.0\n",
              "\n",
              "[2 rows x 9 columns]"
            ]
          },
          "metadata": {
            "tags": []
          },
          "execution_count": 40
        }
      ]
    },
    {
      "cell_type": "code",
      "metadata": {
        "id": "G7AHWqwjoVCL"
      },
      "source": [
        "#create quarter-year datetime object to use as aggregator\r\n",
        "func_dt = lambda x, y: DateQuarter(x, y)\r\n",
        "all_travel['QQ-YYYY'] = all_travel[['YEAR', 'QUARTER']].apply(lambda x: func_dt(*x), axis=1)"
      ],
      "execution_count": null,
      "outputs": []
    },
    {
      "cell_type": "code",
      "metadata": {
        "colab": {
          "base_uri": "https://localhost:8080/",
          "height": 111
        },
        "id": "fF9hsIkZsyQP",
        "outputId": "e0094b48-d803-4c53-fc6d-70472faa9f0d"
      },
      "source": [
        "all_travel = all_travel.drop(['YEAR', 'QUARTER'], axis=1)\r\n",
        "all_travel.head(2)"
      ],
      "execution_count": null,
      "outputs": [
        {
          "output_type": "execute_result",
          "data": {
            "text/html": [
              "<div>\n",
              "<style scoped>\n",
              "    .dataframe tbody tr th:only-of-type {\n",
              "        vertical-align: middle;\n",
              "    }\n",
              "\n",
              "    .dataframe tbody tr th {\n",
              "        vertical-align: top;\n",
              "    }\n",
              "\n",
              "    .dataframe thead th {\n",
              "        text-align: right;\n",
              "    }\n",
              "</style>\n",
              "<table border=\"1\" class=\"dataframe\">\n",
              "  <thead>\n",
              "    <tr style=\"text-align: right;\">\n",
              "      <th></th>\n",
              "      <th>ITIN_ID</th>\n",
              "      <th>ORIGIN_AIRPORT_ID</th>\n",
              "      <th>DEST_AIRPORT_ID</th>\n",
              "      <th>PASSENGERS</th>\n",
              "      <th>ORIGIN_COUNTRY</th>\n",
              "      <th>ROUNDTRIP</th>\n",
              "      <th>ITIN_FARE</th>\n",
              "      <th>QQ-YYYY</th>\n",
              "    </tr>\n",
              "  </thead>\n",
              "  <tbody>\n",
              "    <tr>\n",
              "      <th>0</th>\n",
              "      <td>20111156458</td>\n",
              "      <td>11278</td>\n",
              "      <td>14771</td>\n",
              "      <td>1.0</td>\n",
              "      <td>US</td>\n",
              "      <td>0.0</td>\n",
              "      <td>2112.0</td>\n",
              "      <td>Q1 of 2011</td>\n",
              "    </tr>\n",
              "    <tr>\n",
              "      <th>1</th>\n",
              "      <td>20111156497</td>\n",
              "      <td>11618</td>\n",
              "      <td>14831</td>\n",
              "      <td>1.0</td>\n",
              "      <td>US</td>\n",
              "      <td>0.0</td>\n",
              "      <td>394.0</td>\n",
              "      <td>Q1 of 2011</td>\n",
              "    </tr>\n",
              "  </tbody>\n",
              "</table>\n",
              "</div>"
            ],
            "text/plain": [
              "       ITIN_ID  ORIGIN_AIRPORT_ID  ...  ITIN_FARE     QQ-YYYY\n",
              "0  20111156458              11278  ...     2112.0  Q1 of 2011\n",
              "1  20111156497              11618  ...      394.0  Q1 of 2011\n",
              "\n",
              "[2 rows x 8 columns]"
            ]
          },
          "metadata": {
            "tags": []
          },
          "execution_count": 42
        }
      ]
    },
    {
      "cell_type": "markdown",
      "metadata": {
        "id": "les-rr-y1TZj"
      },
      "source": [
        "Because `ITIN_ID`, `ORIGIN_AIRPORT_ID`, `DEST_AIRPORT_ID` and `ROUNDTRIP` are all categorical variables, it would be nice to make sure they are also not aggregated by converting them to strings before aggregating anything.\r\n",
        "\r\n",
        "**The Numerical Fields**  \r\n",
        "Recall that `ITIN_FARE` is a per passenger representation of the cost of airfare and `PASSENGERS` is the number of people associated with an itinerary booking"
      ]
    },
    {
      "cell_type": "code",
      "metadata": {
        "colab": {
          "base_uri": "https://localhost:8080/"
        },
        "id": "tClpwBt01Rb4",
        "outputId": "ef5eaf57-046f-4120-8274-b8d81186de94"
      },
      "source": [
        "print('Confirming data types:')\r\n",
        "for column in ['ITIN_ID', 'ORIGIN_AIRPORT_ID', 'DEST_AIRPORT_ID', 'ROUNDTRIP']:\r\n",
        "  all_travel[column] = all_travel[column].astype(str)\r\n",
        "  print(column+':', type(all_travel[column][0]))"
      ],
      "execution_count": null,
      "outputs": [
        {
          "output_type": "stream",
          "text": [
            "Confirming data types:\n",
            "ITIN_ID: <class 'str'>\n",
            "ORIGIN_AIRPORT_ID: <class 'str'>\n",
            "DEST_AIRPORT_ID: <class 'str'>\n",
            "ROUNDTRIP: <class 'str'>\n"
          ],
          "name": "stdout"
        }
      ]
    },
    {
      "cell_type": "code",
      "metadata": {
        "colab": {
          "base_uri": "https://localhost:8080/",
          "height": 128
        },
        "id": "-LpjNxnLttQ3",
        "outputId": "de15373c-aca0-4a74-e195-544a8270f082"
      },
      "source": [
        "#aggregating passengers by sum\r\n",
        "passenger_agg = all_travel.groupby(by=['QQ-YYYY', 'ORIGIN_AIRPORT_ID', 'DEST_AIRPORT_ID']).sum().reset_index().drop(['ITIN_FARE'], axis=1)\r\n",
        "print(passenger_agg.shape)\r\n",
        "passenger_agg.head(2)"
      ],
      "execution_count": null,
      "outputs": [
        {
          "output_type": "stream",
          "text": [
            "(33564, 4)\n"
          ],
          "name": "stdout"
        },
        {
          "output_type": "execute_result",
          "data": {
            "text/html": [
              "<div>\n",
              "<style scoped>\n",
              "    .dataframe tbody tr th:only-of-type {\n",
              "        vertical-align: middle;\n",
              "    }\n",
              "\n",
              "    .dataframe tbody tr th {\n",
              "        vertical-align: top;\n",
              "    }\n",
              "\n",
              "    .dataframe thead th {\n",
              "        text-align: right;\n",
              "    }\n",
              "</style>\n",
              "<table border=\"1\" class=\"dataframe\">\n",
              "  <thead>\n",
              "    <tr style=\"text-align: right;\">\n",
              "      <th></th>\n",
              "      <th>QQ-YYYY</th>\n",
              "      <th>ORIGIN_AIRPORT_ID</th>\n",
              "      <th>DEST_AIRPORT_ID</th>\n",
              "      <th>PASSENGERS</th>\n",
              "    </tr>\n",
              "  </thead>\n",
              "  <tbody>\n",
              "    <tr>\n",
              "      <th>0</th>\n",
              "      <td>Q4 of 2010</td>\n",
              "      <td>10135</td>\n",
              "      <td>13796</td>\n",
              "      <td>1.0</td>\n",
              "    </tr>\n",
              "    <tr>\n",
              "      <th>1</th>\n",
              "      <td>Q4 of 2010</td>\n",
              "      <td>10135</td>\n",
              "      <td>14771</td>\n",
              "      <td>59.0</td>\n",
              "    </tr>\n",
              "  </tbody>\n",
              "</table>\n",
              "</div>"
            ],
            "text/plain": [
              "      QQ-YYYY ORIGIN_AIRPORT_ID DEST_AIRPORT_ID  PASSENGERS\n",
              "0  Q4 of 2010             10135           13796         1.0\n",
              "1  Q4 of 2010             10135           14771        59.0"
            ]
          },
          "metadata": {
            "tags": []
          },
          "execution_count": 44
        }
      ]
    },
    {
      "cell_type": "code",
      "metadata": {
        "colab": {
          "base_uri": "https://localhost:8080/",
          "height": 196
        },
        "id": "Yp_Uyl1q531X",
        "outputId": "f89ff911-5840-4cae-f232-0d997132a60d"
      },
      "source": [
        "#aggregating itinerary fare by main measures (as this is a per person amount for everyone on the itinerary)\r\n",
        "measure_dfs = []\r\n",
        "aggregators = ['QQ-YYYY', 'ORIGIN_AIRPORT_ID', 'DEST_AIRPORT_ID']\r\n",
        "measure_dfs.append(('MEDIAN', all_travel.groupby(by=aggregators).median().reset_index().drop(['PASSENGERS'], axis=1)))\r\n",
        "measure_dfs.append(('AVG', all_travel.groupby(by=aggregators).mean().reset_index().drop(['PASSENGERS'], axis=1)))\r\n",
        "measure_dfs.append(('MIN', all_travel.groupby(by=aggregators).min().reset_index().drop(['PASSENGERS', 'ITIN_ID',\t'ORIGIN_COUNTRY', 'ROUNDTRIP'], axis=1)))\r\n",
        "measure_dfs.append(('MAX', all_travel.groupby(by=aggregators).max().reset_index().drop(['PASSENGERS', 'ITIN_ID',\t'ORIGIN_COUNTRY', 'ROUNDTRIP'], axis=1)))\r\n",
        "for i, df in enumerate(measure_dfs):\r\n",
        "  measure_dfs[i] = df[1].rename(columns={'ITIN_FARE': df[0]+'_ITIN_FARE'})\r\n",
        "  print(df[0].title(),'df:', df[1].shape)\r\n",
        "\r\n",
        "#merge fare ones\r\n",
        "fare_agg = pd.merge(pd.merge(pd.merge(measure_dfs[0], measure_dfs[1], on=aggregators), measure_dfs[2], on=aggregators), measure_dfs[3], on=aggregators)\r\n",
        "print('all fare merge', fare_agg.shape)\r\n",
        "fare_agg.head(2)"
      ],
      "execution_count": null,
      "outputs": [
        {
          "output_type": "stream",
          "text": [
            "Median df: (33564, 4)\n",
            "Avg df: (33564, 4)\n",
            "Min df: (33564, 4)\n",
            "Max df: (33564, 4)\n",
            "all fare merge (33564, 7)\n"
          ],
          "name": "stdout"
        },
        {
          "output_type": "execute_result",
          "data": {
            "text/html": [
              "<div>\n",
              "<style scoped>\n",
              "    .dataframe tbody tr th:only-of-type {\n",
              "        vertical-align: middle;\n",
              "    }\n",
              "\n",
              "    .dataframe tbody tr th {\n",
              "        vertical-align: top;\n",
              "    }\n",
              "\n",
              "    .dataframe thead th {\n",
              "        text-align: right;\n",
              "    }\n",
              "</style>\n",
              "<table border=\"1\" class=\"dataframe\">\n",
              "  <thead>\n",
              "    <tr style=\"text-align: right;\">\n",
              "      <th></th>\n",
              "      <th>QQ-YYYY</th>\n",
              "      <th>ORIGIN_AIRPORT_ID</th>\n",
              "      <th>DEST_AIRPORT_ID</th>\n",
              "      <th>MEDIAN_ITIN_FARE</th>\n",
              "      <th>AVG_ITIN_FARE</th>\n",
              "      <th>MIN_ITIN_FARE</th>\n",
              "      <th>MAX_ITIN_FARE</th>\n",
              "    </tr>\n",
              "  </thead>\n",
              "  <tbody>\n",
              "    <tr>\n",
              "      <th>0</th>\n",
              "      <td>Q4 of 2010</td>\n",
              "      <td>10135</td>\n",
              "      <td>13796</td>\n",
              "      <td>10.0</td>\n",
              "      <td>10.000000</td>\n",
              "      <td>10.0</td>\n",
              "      <td>10.0</td>\n",
              "    </tr>\n",
              "    <tr>\n",
              "      <th>1</th>\n",
              "      <td>Q4 of 2010</td>\n",
              "      <td>10135</td>\n",
              "      <td>14771</td>\n",
              "      <td>466.0</td>\n",
              "      <td>457.350877</td>\n",
              "      <td>10.0</td>\n",
              "      <td>1059.0</td>\n",
              "    </tr>\n",
              "  </tbody>\n",
              "</table>\n",
              "</div>"
            ],
            "text/plain": [
              "      QQ-YYYY ORIGIN_AIRPORT_ID  ... MIN_ITIN_FARE  MAX_ITIN_FARE\n",
              "0  Q4 of 2010             10135  ...          10.0           10.0\n",
              "1  Q4 of 2010             10135  ...          10.0         1059.0\n",
              "\n",
              "[2 rows x 7 columns]"
            ]
          },
          "metadata": {
            "tags": []
          },
          "execution_count": 45
        }
      ]
    },
    {
      "cell_type": "markdown",
      "metadata": {
        "id": "Qax-ssemCFOf"
      },
      "source": [
        "Before merging the market coordinates data that gives us more location information about the airports, we need to make sure there are no duplicates in that data e.g. the same location represented twice because of spelling differences (encountered during data cleaning and exploration stages)."
      ]
    },
    {
      "cell_type": "code",
      "metadata": {
        "colab": {
          "base_uri": "https://localhost:8080/",
          "height": 165
        },
        "id": "NFiRRUy8CgVg",
        "outputId": "9ed089b9-e357-4a40-af25-5dd8854be745"
      },
      "source": [
        "print(airport_data.shape)\r\n",
        "airport_data.head(2)"
      ],
      "execution_count": null,
      "outputs": [
        {
          "output_type": "stream",
          "text": [
            "(6548, 19)\n"
          ],
          "name": "stdout"
        },
        {
          "output_type": "execute_result",
          "data": {
            "text/html": [
              "<div>\n",
              "<style scoped>\n",
              "    .dataframe tbody tr th:only-of-type {\n",
              "        vertical-align: middle;\n",
              "    }\n",
              "\n",
              "    .dataframe tbody tr th {\n",
              "        vertical-align: top;\n",
              "    }\n",
              "\n",
              "    .dataframe thead th {\n",
              "        text-align: right;\n",
              "    }\n",
              "</style>\n",
              "<table border=\"1\" class=\"dataframe\">\n",
              "  <thead>\n",
              "    <tr style=\"text-align: right;\">\n",
              "      <th></th>\n",
              "      <th>AIRPORT_ID</th>\n",
              "      <th>AIRPORT</th>\n",
              "      <th>DISPLAY_AIRPORT_NAME</th>\n",
              "      <th>DISPLAY_AIRPORT_CITY_NAME_FULL</th>\n",
              "      <th>AIRPORT_COUNTRY_NAME</th>\n",
              "      <th>AIRPORT_STATE_NAME</th>\n",
              "      <th>AIRPORT_STATE_FIPS</th>\n",
              "      <th>DISPLAY_CITY_MARKET_NAME_FULL</th>\n",
              "      <th>LAT_DEGREES</th>\n",
              "      <th>LATITUDE</th>\n",
              "      <th>LON_DEGREES</th>\n",
              "      <th>LONGITUDE</th>\n",
              "      <th>AIRPORT_IS_LATEST</th>\n",
              "      <th>ORIGIN_AIRPORT_ID</th>\n",
              "      <th>ORIGIN_CITY_NAME</th>\n",
              "      <th>DEST_AIRPORT_ID</th>\n",
              "      <th>DEST_CITY_NAME</th>\n",
              "      <th>ORIGIN_LONGITUDE</th>\n",
              "      <th>ORIGIN_LATITUDE</th>\n",
              "    </tr>\n",
              "  </thead>\n",
              "  <tbody>\n",
              "    <tr>\n",
              "      <th>0</th>\n",
              "      <td>10001</td>\n",
              "      <td>01A</td>\n",
              "      <td>Afognak Lake Airport</td>\n",
              "      <td>Afognak Lake, AK</td>\n",
              "      <td>United States</td>\n",
              "      <td>Alaska</td>\n",
              "      <td>2.0</td>\n",
              "      <td>Afognak Lake, AK</td>\n",
              "      <td>58.0</td>\n",
              "      <td>58.109444</td>\n",
              "      <td>152.0</td>\n",
              "      <td>-152.906667</td>\n",
              "      <td>1</td>\n",
              "      <td>10001</td>\n",
              "      <td>Afognak Lake, AK</td>\n",
              "      <td>10001</td>\n",
              "      <td>Afognak Lake, AK</td>\n",
              "      <td>-152.906667</td>\n",
              "      <td>58.109444</td>\n",
              "    </tr>\n",
              "    <tr>\n",
              "      <th>1</th>\n",
              "      <td>10003</td>\n",
              "      <td>03A</td>\n",
              "      <td>Bear Creek Mining Strip</td>\n",
              "      <td>Granite Mountain, AK</td>\n",
              "      <td>United States</td>\n",
              "      <td>Alaska</td>\n",
              "      <td>2.0</td>\n",
              "      <td>Granite Mountain, AK</td>\n",
              "      <td>65.0</td>\n",
              "      <td>65.548056</td>\n",
              "      <td>161.0</td>\n",
              "      <td>-161.071667</td>\n",
              "      <td>1</td>\n",
              "      <td>10003</td>\n",
              "      <td>Granite Mountain, AK</td>\n",
              "      <td>10003</td>\n",
              "      <td>Granite Mountain, AK</td>\n",
              "      <td>-161.071667</td>\n",
              "      <td>65.548056</td>\n",
              "    </tr>\n",
              "  </tbody>\n",
              "</table>\n",
              "</div>"
            ],
            "text/plain": [
              "   AIRPORT_ID AIRPORT  ... ORIGIN_LONGITUDE ORIGIN_LATITUDE\n",
              "0       10001     01A  ...      -152.906667       58.109444\n",
              "1       10003     03A  ...      -161.071667       65.548056\n",
              "\n",
              "[2 rows x 19 columns]"
            ]
          },
          "metadata": {
            "tags": []
          },
          "execution_count": 48
        }
      ]
    },
    {
      "cell_type": "code",
      "metadata": {
        "colab": {
          "base_uri": "https://localhost:8080/"
        },
        "id": "lFqsL3psCSsA",
        "outputId": "dc4b099c-4474-4f28-b332-0338cf7efb23"
      },
      "source": [
        "airport_data = airport_data.drop_duplicates(subset=['AIRPORT_ID'])\r\n",
        "airport_data.shape"
      ],
      "execution_count": null,
      "outputs": [
        {
          "output_type": "execute_result",
          "data": {
            "text/plain": [
              "(6548, 19)"
            ]
          },
          "metadata": {
            "tags": []
          },
          "execution_count": 49
        }
      ]
    },
    {
      "cell_type": "code",
      "metadata": {
        "colab": {
          "base_uri": "https://localhost:8080/",
          "height": 255
        },
        "id": "DoHkO-GG-Y71",
        "outputId": "a47c8b50-7901-41cc-d898-e317b86522f1"
      },
      "source": [
        "#merge aggregates into one df\r\n",
        "travel_df = pd.merge(passenger_agg, fare_agg, on=['QQ-YYYY','ORIGIN_AIRPORT_ID','DEST_AIRPORT_ID'])\r\n",
        "print('aggregate merge', travel_df.shape)\r\n",
        "\r\n",
        "#change airport ID to int again so it can be used to merge\r\n",
        "travel_df['ORIGIN_AIRPORT_ID'] = travel_df['ORIGIN_AIRPORT_ID'].astype(int)\r\n",
        "travel_df['DEST_AIRPORT_ID'] = travel_df['DEST_AIRPORT_ID'].astype(int)\r\n",
        "#merge origin location values from market coordinates dataframe\r\n",
        "travel_df = travel_df.merge(airport_data[['ORIGIN_AIRPORT_ID', 'ORIGIN_CITY_NAME']],how='left', on=['ORIGIN_AIRPORT_ID'])\r\n",
        "travel_df = travel_df.merge(airport_data[['DEST_AIRPORT_ID', 'DEST_CITY_NAME']],how='left', on=['DEST_AIRPORT_ID'])\r\n",
        "print('complete merge', travel_df.shape, '\\n')\r\n",
        "travel_df.iloc[:5:,-8:]"
      ],
      "execution_count": null,
      "outputs": [
        {
          "output_type": "stream",
          "text": [
            "aggregate merge (33564, 8)\n",
            "complete merge (33564, 10) \n",
            "\n"
          ],
          "name": "stdout"
        },
        {
          "output_type": "execute_result",
          "data": {
            "text/html": [
              "<div>\n",
              "<style scoped>\n",
              "    .dataframe tbody tr th:only-of-type {\n",
              "        vertical-align: middle;\n",
              "    }\n",
              "\n",
              "    .dataframe tbody tr th {\n",
              "        vertical-align: top;\n",
              "    }\n",
              "\n",
              "    .dataframe thead th {\n",
              "        text-align: right;\n",
              "    }\n",
              "</style>\n",
              "<table border=\"1\" class=\"dataframe\">\n",
              "  <thead>\n",
              "    <tr style=\"text-align: right;\">\n",
              "      <th></th>\n",
              "      <th>DEST_AIRPORT_ID</th>\n",
              "      <th>PASSENGERS</th>\n",
              "      <th>MEDIAN_ITIN_FARE</th>\n",
              "      <th>AVG_ITIN_FARE</th>\n",
              "      <th>MIN_ITIN_FARE</th>\n",
              "      <th>MAX_ITIN_FARE</th>\n",
              "      <th>ORIGIN_CITY_NAME</th>\n",
              "      <th>DEST_CITY_NAME</th>\n",
              "    </tr>\n",
              "  </thead>\n",
              "  <tbody>\n",
              "    <tr>\n",
              "      <th>0</th>\n",
              "      <td>13796</td>\n",
              "      <td>1.0</td>\n",
              "      <td>10.0</td>\n",
              "      <td>10.000000</td>\n",
              "      <td>10.0</td>\n",
              "      <td>10.0</td>\n",
              "      <td>Allentown/Bethlehem/Easton, PA</td>\n",
              "      <td>Oakland, CA</td>\n",
              "    </tr>\n",
              "    <tr>\n",
              "      <th>1</th>\n",
              "      <td>14771</td>\n",
              "      <td>59.0</td>\n",
              "      <td>466.0</td>\n",
              "      <td>457.350877</td>\n",
              "      <td>10.0</td>\n",
              "      <td>1059.0</td>\n",
              "      <td>Allentown/Bethlehem/Easton, PA</td>\n",
              "      <td>San Francisco, CA</td>\n",
              "    </tr>\n",
              "    <tr>\n",
              "      <th>2</th>\n",
              "      <td>14831</td>\n",
              "      <td>7.0</td>\n",
              "      <td>536.0</td>\n",
              "      <td>573.285714</td>\n",
              "      <td>321.0</td>\n",
              "      <td>778.0</td>\n",
              "      <td>Allentown/Bethlehem/Easton, PA</td>\n",
              "      <td>San Jose, CA</td>\n",
              "    </tr>\n",
              "    <tr>\n",
              "      <th>3</th>\n",
              "      <td>13796</td>\n",
              "      <td>1.0</td>\n",
              "      <td>609.0</td>\n",
              "      <td>609.000000</td>\n",
              "      <td>609.0</td>\n",
              "      <td>609.0</td>\n",
              "      <td>Abilene, TX</td>\n",
              "      <td>Oakland, CA</td>\n",
              "    </tr>\n",
              "    <tr>\n",
              "      <th>4</th>\n",
              "      <td>14771</td>\n",
              "      <td>5.0</td>\n",
              "      <td>660.0</td>\n",
              "      <td>523.800000</td>\n",
              "      <td>10.0</td>\n",
              "      <td>784.0</td>\n",
              "      <td>Abilene, TX</td>\n",
              "      <td>San Francisco, CA</td>\n",
              "    </tr>\n",
              "  </tbody>\n",
              "</table>\n",
              "</div>"
            ],
            "text/plain": [
              "   DEST_AIRPORT_ID  ...     DEST_CITY_NAME\n",
              "0            13796  ...        Oakland, CA\n",
              "1            14771  ...  San Francisco, CA\n",
              "2            14831  ...       San Jose, CA\n",
              "3            13796  ...        Oakland, CA\n",
              "4            14771  ...  San Francisco, CA\n",
              "\n",
              "[5 rows x 8 columns]"
            ]
          },
          "metadata": {
            "tags": []
          },
          "execution_count": 66
        }
      ]
    },
    {
      "cell_type": "code",
      "metadata": {
        "colab": {
          "base_uri": "https://localhost:8080/"
        },
        "id": "3gQj4B_8c7uE",
        "outputId": "19785bd9-38d2-4e54-cb05-706777ecc25d"
      },
      "source": [
        "travel_df = travel_df.drop(['ORIGIN_AIRPORT_ID', 'DEST_AIRPORT_ID'], axis=1)\r\n",
        "travel_df.columns"
      ],
      "execution_count": null,
      "outputs": [
        {
          "output_type": "execute_result",
          "data": {
            "text/plain": [
              "Index(['QQ-YYYY', 'PASSENGERS', 'MEDIAN_ITIN_FARE', 'AVG_ITIN_FARE',\n",
              "       'MIN_ITIN_FARE', 'MAX_ITIN_FARE', 'ORIGIN_CITY_NAME', 'DEST_CITY_NAME'],\n",
              "      dtype='object')"
            ]
          },
          "metadata": {
            "tags": []
          },
          "execution_count": 68
        }
      ]
    },
    {
      "cell_type": "markdown",
      "metadata": {
        "id": "E6DgX_ACSn3-"
      },
      "source": [
        "Now that we have aggregated the fields we want to merge with everything else, we can export this file to be stored with all others.\r\n",
        "\r\n",
        "- `QQ-YYYY` = Quarter and Year\r\n",
        "- `PASSENGERS` = Number of Passengers for the quarter based on departure and destination\r\n",
        "- `MEDIAN_ITIN_FARE` = Median Itinerary Fare Per Person on the flight route for that quarter\r\n",
        "- `AVG_ITIN_FARE` = Average Itinerary Fare Per Person on the flight route for that quarter\r\n",
        "- `MIN_ITIN_FARE` = Minimum Itinerary Fare Per Person on the flight route for that quarter\r\n",
        "- `MAX_ITIN_FARE` = Maximum Itinerary Fare Per Person on the flight route for that quarter\r\n",
        "- `ORIGIN_CITY_NAME` = collected as `AirportCityName`: Airport City Name with either U.S. State or Country\r\n",
        "- `DEST_CITY_NAME` = collected as `AirportCityName`: Airport City Name with either U.S. State or Country"
      ]
    },
    {
      "cell_type": "code",
      "metadata": {
        "id": "8hxQzE8fMb5H"
      },
      "source": [
        "travel_df.to_csv(path+'data/airport_data_aggregates.csv')"
      ],
      "execution_count": null,
      "outputs": []
    }
  ]
}