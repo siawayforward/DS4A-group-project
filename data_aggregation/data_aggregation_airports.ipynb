{
  "nbformat": 4,
  "nbformat_minor": 0,
  "metadata": {
    "language_info": {
      "codemirror_mode": {
        "name": "ipython",
        "version": 3
      },
      "file_extension": ".py",
      "mimetype": "text/x-python",
      "name": "python",
      "nbconvert_exporter": "python",
      "pygments_lexer": "ipython3",
      "version": "3.7.7-final"
    },
    "orig_nbformat": 2,
    "kernelspec": {
      "name": "python38332bit51e9155267c74bdea6c1df221110bfcd",
      "display_name": "Python 3.8.3 32-bit",
      "language": "python"
    },
    "colab": {
      "name": "data-aggregation-airports.ipynb",
      "provenance": [],
      "collapsed_sections": [],
      "toc_visible": true
    }
  },
  "cells": [
    {
      "cell_type": "markdown",
      "metadata": {
        "id": "UlT6s661KY-u"
      },
      "source": [
        "# Team 88: Basic Exploratory Analysis\n",
        "## Airport Traffic Data\n",
        "\n",
        "From the initial review of this dataset, we identified variables of interest, useful supplementary variables from other datasets, and any needed cleaning was completed. Now with the variables and data set, we can find some insights from the data"
      ]
    },
    {
      "cell_type": "code",
      "metadata": {
        "colab": {
          "base_uri": "https://localhost:8080/"
        },
        "id": "w10DaWqbKdXj",
        "outputId": "602f66cf-967d-4393-9477-9fb223495c6b"
      },
      "source": [
        "#from google.colab import drive\n",
        "#drive.mount('/content/drive')"
      ],
      "execution_count": null,
      "outputs": [
        {
          "output_type": "stream",
          "text": [
            "Mounted at /content/drive\n"
          ],
          "name": "stdout"
        }
      ]
    },
    {
      "cell_type": "code",
      "metadata": {
        "id": "fpHoP4NGKY_I"
      },
      "source": [
        "#modules\n",
        "import pandas as pd\n",
        "import numpy as np\n",
        "import matplotlib.pyplot as plt  \n",
        "import seaborn as sns\n",
        "\n",
        "%matplotlib inline"
      ],
      "execution_count": 1,
      "outputs": []
    },
    {
      "cell_type": "markdown",
      "metadata": {
        "id": "S2o7W0QEKY_g"
      },
      "source": [
        "Reminder of the fields in the datasets. All of these descriptions come from the data source.\n",
        "- `ITIN_ID` = Itinerary ID\n",
        "- `ORIGIN_AIRPORT_ID` = Origin Airport, Airport ID. An identification number assigned by US DOT to identify a unique airport. Use this field for airport analysis across a range of years because an airport can change its airport code and airport codes can be reused.\n",
        "- `ORIGIN` = Origin Airport Code\n",
        "- `DEST_AIRPORT_ID` = Destination Airport, Airport ID. An identification number assigned by US DOT to identify a unique airport. Use this field for airport analysis across a range of years because an airport can change its airport code and airport codes can be reused.\n",
        "- `DEST` = Destination Airport Code\n",
        "- `PASSENGERS` = Number of Passengers for the itinerary\n",
        "- `YEAR` = Year\n",
        "- `QUARTER` = Quarter (1-4)\n",
        "- `ORIGIN_COUNTRY` = Origin Airport, Country Code\n",
        "- `ROUNDTRIP` = Round Trip Indicator (1=Yes)\n",
        "- `ITIN_FARE` = Itinerary Fare Per Person\n",
        "- `ORIGIN_CITY_NAME` = collected as `AirportCityName`: Airport City Name with either U.S. State or Country\n",
        "- `DEST_CITY_NAME` = collected as `AirportCityName`: Airport City Name with either U.S. State or Country"
      ]
    },
    {
      "cell_type": "code",
      "metadata": {
        "colab": {
          "base_uri": "https://localhost:8080/",
          "height": 165
        },
        "id": "EcRxfnY8KY_L",
        "outputId": "792b66fa-59c7-4f04-86ca-60cd30cbcb70"
      },
      "source": [
        "#import data\n",
        "path = '/content/drive/MyDrive/2020-Move/Learning/DS4A-correlation-one/DS4A Project/repo/data/'\n",
        "all_travel = pd.read_csv('all_travel.csv').drop(['Unnamed: 0', 'ORIGIN', 'DEST'], axis=1)\n",
        "print(all_travel.shape,'\\n')\n",
        "all_travel.head(2)"
      ],
      "execution_count": 2,
      "outputs": [
        {
          "output_type": "stream",
          "text": [
            "(4288742, 11) \n",
            "\n"
          ],
          "name": "stdout"
        },
        {
          "output_type": "execute_result",
          "data": {
            "text/html": [
              "<div>\n",
              "<style scoped>\n",
              "    .dataframe tbody tr th:only-of-type {\n",
              "        vertical-align: middle;\n",
              "    }\n",
              "\n",
              "    .dataframe tbody tr th {\n",
              "        vertical-align: top;\n",
              "    }\n",
              "\n",
              "    .dataframe thead th {\n",
              "        text-align: right;\n",
              "    }\n",
              "</style>\n",
              "<table border=\"1\" class=\"dataframe\">\n",
              "  <thead>\n",
              "    <tr style=\"text-align: right;\">\n",
              "      <th></th>\n",
              "      <th>ITIN_ID</th>\n",
              "      <th>ORIGIN_AIRPORT_ID</th>\n",
              "      <th>ORIGIN</th>\n",
              "      <th>DEST_AIRPORT_ID</th>\n",
              "      <th>DEST</th>\n",
              "      <th>PASSENGERS</th>\n",
              "      <th>YEAR</th>\n",
              "      <th>QUARTER</th>\n",
              "      <th>ORIGIN_COUNTRY</th>\n",
              "      <th>ROUNDTRIP</th>\n",
              "      <th>ITIN_FARE</th>\n",
              "    </tr>\n",
              "  </thead>\n",
              "  <tbody>\n",
              "    <tr>\n",
              "      <th>0</th>\n",
              "      <td>20111156458</td>\n",
              "      <td>11278</td>\n",
              "      <td>DCA</td>\n",
              "      <td>14771</td>\n",
              "      <td>SFO</td>\n",
              "      <td>1.0</td>\n",
              "      <td>2011</td>\n",
              "      <td>1</td>\n",
              "      <td>US</td>\n",
              "      <td>0.0</td>\n",
              "      <td>2112.0</td>\n",
              "    </tr>\n",
              "    <tr>\n",
              "      <th>1</th>\n",
              "      <td>20111156497</td>\n",
              "      <td>11618</td>\n",
              "      <td>EWR</td>\n",
              "      <td>14831</td>\n",
              "      <td>SJC</td>\n",
              "      <td>1.0</td>\n",
              "      <td>2011</td>\n",
              "      <td>1</td>\n",
              "      <td>US</td>\n",
              "      <td>0.0</td>\n",
              "      <td>394.0</td>\n",
              "    </tr>\n",
              "  </tbody>\n",
              "</table>\n",
              "</div>"
            ],
            "text/plain": [
              "       ITIN_ID  ORIGIN_AIRPORT_ID ORIGIN  ...  ORIGIN_COUNTRY ROUNDTRIP  ITIN_FARE\n",
              "0  20111156458              11278    DCA  ...              US       0.0     2112.0\n",
              "1  20111156497              11618    EWR  ...              US       0.0      394.0\n",
              "\n",
              "[2 rows x 11 columns]"
            ]
          },
          "metadata": {
            "tags": []
          },
          "execution_count": 2
        }
      ]
    },
    {
      "cell_type": "code",
      "execution_count": null,
      "metadata": {},
      "outputs": [],
      "source": [
        "all_travel.columns"
      ]
    },
    {
      "cell_type": "markdown",
      "metadata": {
        "id": "Kk_MJX0LD2X3"
      },
      "source": [
        "By far, most people fly in from LAX (Los Angeles International Airport) followed by a few west coast airports and some major hubs including New York (JFK) and Boston (BOS). Given that airport codes are not common knowledge, a supplemental file with the city names for each airport code is included and used to update the plot above for top 25 origin airports for other uses going forward.\r\n",
        "\r\n",
        "The [Market Coordinate](https://www.transtats.bts.gov/Tables.asp?DB_ID=595&DB_Name=Aviation%20Support%20Tables) table download (`341379231_T_MASTER_CORD.csv`) that is also provided by the Bureau of Transportation Statistics as with [all our data](https://www.transtats.bts.gov/Tables.asp?DB_ID=125&DB_Name=Airline%20Origin%20and%20Destination%20Survey%20%28DB1B%29&DB_Short_Name=Origin%20and%20Destination%20Survey), includes information about airport codes, IDs, and location, along with any historical identifying information about the airports that appear on the itineraries downloaded."
      ]
    },
    {
      "cell_type": "code",
      "metadata": {
        "colab": {
          "base_uri": "https://localhost:8080/"
        },
        "id": "MebR7z-CDorz",
        "outputId": "08a73956-f88d-45cb-c76d-e1f44fe74cb7"
      },
      "source": [
        "#get city/location data for merging with\n",
        "airport_data = pd.read_csv('341379231_T_MASTER_CORD.csv')\n",
        "airport_data.shape"
      ],
      "execution_count": 3,
      "outputs": [
        {
          "output_type": "execute_result",
          "data": {
            "text/plain": [
              "(18102, 14)"
            ]
          },
          "metadata": {
            "tags": []
          },
          "execution_count": 3
        }
      ]
    },
    {
      "cell_type": "code",
      "metadata": {
        "colab": {
          "base_uri": "https://localhost:8080/",
          "height": 148
        },
        "id": "TMv2RjZdD0CR",
        "outputId": "fa37ec2d-0121-490b-b89b-09c40bd8e95c"
      },
      "source": [
        "airport_data.head(2)"
      ],
      "execution_count": null,
      "outputs": [
        {
          "output_type": "execute_result",
          "data": {
            "text/html": [
              "<div>\n",
              "<style scoped>\n",
              "    .dataframe tbody tr th:only-of-type {\n",
              "        vertical-align: middle;\n",
              "    }\n",
              "\n",
              "    .dataframe tbody tr th {\n",
              "        vertical-align: top;\n",
              "    }\n",
              "\n",
              "    .dataframe thead th {\n",
              "        text-align: right;\n",
              "    }\n",
              "</style>\n",
              "<table border=\"1\" class=\"dataframe\">\n",
              "  <thead>\n",
              "    <tr style=\"text-align: right;\">\n",
              "      <th></th>\n",
              "      <th>AIRPORT_ID</th>\n",
              "      <th>AIRPORT</th>\n",
              "      <th>DISPLAY_AIRPORT_NAME</th>\n",
              "      <th>DISPLAY_AIRPORT_CITY_NAME_FULL</th>\n",
              "      <th>AIRPORT_COUNTRY_NAME</th>\n",
              "      <th>AIRPORT_STATE_NAME</th>\n",
              "      <th>AIRPORT_STATE_FIPS</th>\n",
              "      <th>DISPLAY_CITY_MARKET_NAME_FULL</th>\n",
              "      <th>LAT_DEGREES</th>\n",
              "      <th>LATITUDE</th>\n",
              "      <th>LON_DEGREES</th>\n",
              "      <th>LONGITUDE</th>\n",
              "      <th>AIRPORT_IS_LATEST</th>\n",
              "      <th>Unnamed: 13</th>\n",
              "    </tr>\n",
              "  </thead>\n",
              "  <tbody>\n",
              "    <tr>\n",
              "      <th>0</th>\n",
              "      <td>10001</td>\n",
              "      <td>01A</td>\n",
              "      <td>Afognak Lake Airport</td>\n",
              "      <td>Afognak Lake, AK</td>\n",
              "      <td>United States</td>\n",
              "      <td>Alaska</td>\n",
              "      <td>2.0</td>\n",
              "      <td>Afognak Lake, AK</td>\n",
              "      <td>58.0</td>\n",
              "      <td>58.109444</td>\n",
              "      <td>152.0</td>\n",
              "      <td>-152.906667</td>\n",
              "      <td>1</td>\n",
              "      <td>NaN</td>\n",
              "    </tr>\n",
              "    <tr>\n",
              "      <th>1</th>\n",
              "      <td>10003</td>\n",
              "      <td>03A</td>\n",
              "      <td>Bear Creek Mining Strip</td>\n",
              "      <td>Granite Mountain, AK</td>\n",
              "      <td>United States</td>\n",
              "      <td>Alaska</td>\n",
              "      <td>2.0</td>\n",
              "      <td>Granite Mountain, AK</td>\n",
              "      <td>65.0</td>\n",
              "      <td>65.548056</td>\n",
              "      <td>161.0</td>\n",
              "      <td>-161.071667</td>\n",
              "      <td>1</td>\n",
              "      <td>NaN</td>\n",
              "    </tr>\n",
              "  </tbody>\n",
              "</table>\n",
              "</div>"
            ],
            "text/plain": [
              "   AIRPORT_ID AIRPORT  ... AIRPORT_IS_LATEST Unnamed: 13\n",
              "0       10001     01A  ...                 1         NaN\n",
              "1       10003     03A  ...                 1         NaN\n",
              "\n",
              "[2 rows x 14 columns]"
            ]
          },
          "metadata": {
            "tags": []
          },
          "execution_count": 5
        }
      ]
    },
    {
      "cell_type": "markdown",
      "metadata": {
        "id": "KHHeyt7EELx4"
      },
      "source": [
        "We established during exploration that the parameter that will be used to connect these two datasets is the airport ID = a five digit value that is unique to the airport as the three alphanumeric digit codes tend to be reassigned or retired."
      ]
    },
    {
      "cell_type": "code",
      "metadata": {
        "colab": {
          "base_uri": "https://localhost:8080/",
          "height": 165
        },
        "id": "GKdMyeFqEM_Q",
        "outputId": "fea9e46f-921d-4ed8-ff37-d4fe50ce1ab1"
      },
      "source": [
        "#create temporary columns for merging// there are only four destinations, only adding origin lat/lon\r\n",
        "airport_data['ORIGIN_AIRPORT_ID'] = airport_data['AIRPORT_ID']\r\n",
        "airport_data['DEST_AIRPORT_ID'] = airport_data['AIRPORT_ID']\r\n",
        "airport_data['ORIGIN_CITY_NAME'] = airport_data['DISPLAY_AIRPORT_CITY_NAME_FULL']\r\n",
        "airport_data['DEST_CITY_NAME'] = airport_data['DISPLAY_AIRPORT_CITY_NAME_FULL']\r\n",
        "airport_data['ORIGIN_LONGITUDE'] = airport_data['LONGITUDE']\r\n",
        "airport_data['ORIGIN_LATITUDE'] = airport_data['LATITUDE']\r\n",
        "airport_data.iloc[:, -8:].head(2)"
      ],
      "execution_count": 4,
      "outputs": [
        {
          "output_type": "execute_result",
          "data": {
            "text/html": [
              "<div>\n",
              "<style scoped>\n",
              "    .dataframe tbody tr th:only-of-type {\n",
              "        vertical-align: middle;\n",
              "    }\n",
              "\n",
              "    .dataframe tbody tr th {\n",
              "        vertical-align: top;\n",
              "    }\n",
              "\n",
              "    .dataframe thead th {\n",
              "        text-align: right;\n",
              "    }\n",
              "</style>\n",
              "<table border=\"1\" class=\"dataframe\">\n",
              "  <thead>\n",
              "    <tr style=\"text-align: right;\">\n",
              "      <th></th>\n",
              "      <th>AIRPORT_IS_LATEST</th>\n",
              "      <th>Unnamed: 13</th>\n",
              "      <th>ORIGIN_AIRPORT_ID</th>\n",
              "      <th>DEST_AIRPORT_ID</th>\n",
              "      <th>ORIGIN_CITY_NAME</th>\n",
              "      <th>DEST_CITY_NAME</th>\n",
              "      <th>ORIGIN_LONGITUDE</th>\n",
              "      <th>ORIGIN_LATITUDE</th>\n",
              "    </tr>\n",
              "  </thead>\n",
              "  <tbody>\n",
              "    <tr>\n",
              "      <th>0</th>\n",
              "      <td>1</td>\n",
              "      <td>NaN</td>\n",
              "      <td>10001</td>\n",
              "      <td>10001</td>\n",
              "      <td>Afognak Lake, AK</td>\n",
              "      <td>Afognak Lake, AK</td>\n",
              "      <td>-152.906667</td>\n",
              "      <td>58.109444</td>\n",
              "    </tr>\n",
              "    <tr>\n",
              "      <th>1</th>\n",
              "      <td>1</td>\n",
              "      <td>NaN</td>\n",
              "      <td>10003</td>\n",
              "      <td>10003</td>\n",
              "      <td>Granite Mountain, AK</td>\n",
              "      <td>Granite Mountain, AK</td>\n",
              "      <td>-161.071667</td>\n",
              "      <td>65.548056</td>\n",
              "    </tr>\n",
              "  </tbody>\n",
              "</table>\n",
              "</div>"
            ],
            "text/plain": [
              "   AIRPORT_IS_LATEST  Unnamed: 13  ...  ORIGIN_LONGITUDE  ORIGIN_LATITUDE\n",
              "0                  1          NaN  ...       -152.906667        58.109444\n",
              "1                  1          NaN  ...       -161.071667        65.548056\n",
              "\n",
              "[2 rows x 8 columns]"
            ]
          },
          "metadata": {
            "tags": []
          },
          "execution_count": 4
        }
      ]
    },
    {
      "cell_type": "code",
      "metadata": {
        "colab": {
          "base_uri": "https://localhost:8080/",
          "height": 148
        },
        "id": "jKSoRjgRE3Ac",
        "outputId": "2d690075-04f5-4a55-fb9d-81ebbcb25e21"
      },
      "source": [
        "#dropping unused/useless columns\r\n",
        "del airport_data['Unnamed: 13']\r\n",
        "airport_data.head(2)"
      ],
      "execution_count": 5,
      "outputs": [
        {
          "output_type": "execute_result",
          "data": {
            "text/html": [
              "<div>\n",
              "<style scoped>\n",
              "    .dataframe tbody tr th:only-of-type {\n",
              "        vertical-align: middle;\n",
              "    }\n",
              "\n",
              "    .dataframe tbody tr th {\n",
              "        vertical-align: top;\n",
              "    }\n",
              "\n",
              "    .dataframe thead th {\n",
              "        text-align: right;\n",
              "    }\n",
              "</style>\n",
              "<table border=\"1\" class=\"dataframe\">\n",
              "  <thead>\n",
              "    <tr style=\"text-align: right;\">\n",
              "      <th></th>\n",
              "      <th>AIRPORT_ID</th>\n",
              "      <th>AIRPORT</th>\n",
              "      <th>DISPLAY_AIRPORT_NAME</th>\n",
              "      <th>DISPLAY_AIRPORT_CITY_NAME_FULL</th>\n",
              "      <th>AIRPORT_COUNTRY_NAME</th>\n",
              "      <th>AIRPORT_STATE_NAME</th>\n",
              "      <th>AIRPORT_STATE_FIPS</th>\n",
              "      <th>DISPLAY_CITY_MARKET_NAME_FULL</th>\n",
              "      <th>LAT_DEGREES</th>\n",
              "      <th>LATITUDE</th>\n",
              "      <th>LON_DEGREES</th>\n",
              "      <th>LONGITUDE</th>\n",
              "      <th>AIRPORT_IS_LATEST</th>\n",
              "      <th>ORIGIN_AIRPORT_ID</th>\n",
              "      <th>DEST_AIRPORT_ID</th>\n",
              "      <th>ORIGIN_CITY_NAME</th>\n",
              "      <th>DEST_CITY_NAME</th>\n",
              "      <th>ORIGIN_LONGITUDE</th>\n",
              "      <th>ORIGIN_LATITUDE</th>\n",
              "    </tr>\n",
              "  </thead>\n",
              "  <tbody>\n",
              "    <tr>\n",
              "      <th>0</th>\n",
              "      <td>10001</td>\n",
              "      <td>01A</td>\n",
              "      <td>Afognak Lake Airport</td>\n",
              "      <td>Afognak Lake, AK</td>\n",
              "      <td>United States</td>\n",
              "      <td>Alaska</td>\n",
              "      <td>2.0</td>\n",
              "      <td>Afognak Lake, AK</td>\n",
              "      <td>58.0</td>\n",
              "      <td>58.109444</td>\n",
              "      <td>152.0</td>\n",
              "      <td>-152.906667</td>\n",
              "      <td>1</td>\n",
              "      <td>10001</td>\n",
              "      <td>10001</td>\n",
              "      <td>Afognak Lake, AK</td>\n",
              "      <td>Afognak Lake, AK</td>\n",
              "      <td>-152.906667</td>\n",
              "      <td>58.109444</td>\n",
              "    </tr>\n",
              "    <tr>\n",
              "      <th>1</th>\n",
              "      <td>10003</td>\n",
              "      <td>03A</td>\n",
              "      <td>Bear Creek Mining Strip</td>\n",
              "      <td>Granite Mountain, AK</td>\n",
              "      <td>United States</td>\n",
              "      <td>Alaska</td>\n",
              "      <td>2.0</td>\n",
              "      <td>Granite Mountain, AK</td>\n",
              "      <td>65.0</td>\n",
              "      <td>65.548056</td>\n",
              "      <td>161.0</td>\n",
              "      <td>-161.071667</td>\n",
              "      <td>1</td>\n",
              "      <td>10003</td>\n",
              "      <td>10003</td>\n",
              "      <td>Granite Mountain, AK</td>\n",
              "      <td>Granite Mountain, AK</td>\n",
              "      <td>-161.071667</td>\n",
              "      <td>65.548056</td>\n",
              "    </tr>\n",
              "  </tbody>\n",
              "</table>\n",
              "</div>"
            ],
            "text/plain": [
              "   AIRPORT_ID AIRPORT  ... ORIGIN_LONGITUDE ORIGIN_LATITUDE\n",
              "0       10001     01A  ...      -152.906667       58.109444\n",
              "1       10003     03A  ...      -161.071667       65.548056\n",
              "\n",
              "[2 rows x 19 columns]"
            ]
          },
          "metadata": {
            "tags": []
          },
          "execution_count": 5
        }
      ]
    },
    {
      "cell_type": "code",
      "metadata": {
        "id": "uq_WqPvkE3NO"
      },
      "source": [
        "#merge to larger dataset by airport ID\n",
        "travel_df = pd.merge(all_travel, airport_data[['ORIGIN_AIRPORT_ID', 'ORIGIN_CITY_NAME', 'ORIGIN_LATITUDE', 'ORIGIN_LONGITUDE']])\n",
        "#travel_df = pd.merge(all_travel, airport_data[['ORIGIN_AIRPORT_ID', 'ORIGIN_CITY_NAME']])\n",
        "travel_df = pd.merge(travel_df, airport_data[['DEST_AIRPORT_ID', 'DEST_CITY_NAME']])\n",
        "travel_df.head(2)"
      ],
      "execution_count": null,
      "outputs": []
    },
    {
      "cell_type": "code",
      "metadata": {
        "id": "U1KvS5KbE3WX"
      },
      "source": [],
      "execution_count": null,
      "outputs": []
    },
    {
      "cell_type": "markdown",
      "metadata": {
        "id": "rnRXh3UiKY_O"
      },
      "source": [
        "After filtering the dataset to only include bay area inbound flights and aggregating all periods, we decided to use December 19th as the cutoff for our data periods. There are no identifiable dates from this data, but the `ITIN_ID` field looks like it contains the date so we try to extract that to get this information."
      ]
    },
    {
      "cell_type": "code",
      "metadata": {
        "id": "oaD7hmrhTN7C"
      },
      "source": [],
      "execution_count": null,
      "outputs": []
    }
  ]
}